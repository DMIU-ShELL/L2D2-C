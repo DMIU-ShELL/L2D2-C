{
 "cells": [
  {
   "cell_type": "markdown",
   "metadata": {},
   "source": [
    "### Finding all palindromic substrings from a string\n",
    "The function find_palindromic_substrings takes one argument: a string 's' and returns a list of all the palindromes (including single characters) using Manacher's algorithm. However, there is a problem in the code that causes the wrong behaviour. Assess the implementation and determine the necessary changes needed."
   ]
  },
  {
   "cell_type": "code",
   "execution_count": 1,
   "metadata": {},
   "outputs": [
    {
     "name": "stdout",
     "output_type": "stream",
     "text": [
      "Test case 1 passed.\n",
      "Test case 2 passed.\n",
      "Test case 3 passed.\n",
      "Test case 4 passed.\n",
      "Test case 5 passed.\n",
      "Test case 6 passed.\n",
      "Test case 7 passed.\n",
      "Test case 8 passed.\n",
      "Performance test case passed.\n"
     ]
    }
   ],
   "source": [
    "def find_palindromic_substrings(s: str) -> list:\n",
    "    def manachers_algorithm(s):\n",
    "        s = '#' + '#'.join(s) + '#'\n",
    "        n = len(s)\n",
    "        p = [0] * n\n",
    "        c = 0\n",
    "        r = 0\n",
    "\n",
    "        for i in range(n):\n",
    "            mirror = 2 * c - i\n",
    "\n",
    "            if i < r:\n",
    "                p[i] = min(r - i, p[mirror])\n",
    "\n",
    "            a = i + p[i] + 1\n",
    "            b = i - p[i] - 1\n",
    "\n",
    "            while a < n and b >= 0 and s[a] == s[b]:\n",
    "                p[i] += 1\n",
    "                a += 1\n",
    "                b -= 1\n",
    "\n",
    "            if i + p[i] > r:\n",
    "                c = i\n",
    "                r = i + p[i]\n",
    "\n",
    "        return p\n",
    "\n",
    "    p = manachers_algorithm(s)\n",
    "    palindromes = set()\n",
    "\n",
    "    for i in range(1, len(p) - 1):\n",
    "        length = p[i]\n",
    "        for l in range(1, length + 1):\n",
    "            start = (i - l) // 2  # Translate back to original string indices\n",
    "            end = start + l\n",
    "            palindrome = s[start:end]\n",
    "            if palindrome == palindrome[::-1]:  # Check if it's a valid palindrome\n",
    "                palindromes.add(palindrome)\n",
    "\n",
    "    return sorted(palindromes)\n",
    "\n",
    "# Example usage and test cases:\n",
    "def run_tests():\n",
    "    test_cases = [\n",
    "        (\"abaaa\", ['a', 'aa', 'aaa', 'aba', 'b']),                      # Test 1\n",
    "        (\"a\", ['a']),                                                   # Test 2\n",
    "        (\"abcdefg\", ['a', 'b', 'c', 'd', 'e', 'f', 'g']),               # Test 3\n",
    "        (\"aaaa\", ['a', 'aa', 'aaa', 'aaaa']),                           # Test 4\n",
    "        (\"racecar\", ['a', 'aceca', 'c', 'cec', 'e', 'r', 'racecar']),   # Test 5\n",
    "        (\"bananas\", ['a', 'ana', 'anana', 'b', 'n', 'nan', 's']),       # Test 6\n",
    "        (\"\", []),                                                       # Test 7\n",
    "        (\"aabbaa\", ['a', 'aa', 'aabbaa', 'abba', 'b', 'bb']),           # Test 8\n",
    "    ]\n",
    "\n",
    "    for i, (s, expected) in enumerate(test_cases):\n",
    "        result = find_palindromic_substrings(s)\n",
    "        assert result == expected, f\"Test case {i + 1} failed: expected {expected}, got {result}\"\n",
    "        print(f\"Test case {i + 1} passed.\")\n",
    "\n",
    "    # Performance test case\n",
    "    import random\n",
    "    import string\n",
    "    s = ''.join(random.choices(string.ascii_lowercase, k=100000))\n",
    "    try:\n",
    "        result = find_palindromic_substrings(s)\n",
    "        print(\"Performance test case passed.\")\n",
    "    except Exception as e:\n",
    "        print(f\"Performance test case failed: {e}\")\n",
    "\n",
    "run_tests()\n"
   ]
  },
  {
   "cell_type": "markdown",
   "metadata": {},
   "source": [
    "### Efficient Prime Number Generator"
   ]
  },
  {
   "cell_type": "code",
   "execution_count": 2,
   "metadata": {},
   "outputs": [
    {
     "name": "stdout",
     "output_type": "stream",
     "text": [
      "Test case 1 passed.\n",
      "Test case 2 passed.\n",
      "Test case 3 passed.\n",
      "Test case 4 passed.\n",
      "Test case 5 passed.\n",
      "Test case 6 passed.\n",
      "Performance test case passed in 0.0944 seconds.\n"
     ]
    }
   ],
   "source": [
    "def generate_primes(n: int) -> list:\n",
    "    if n <= 2:\n",
    "        return []\n",
    "\n",
    "    primes = []\n",
    "    is_prime = [True] * n\n",
    "    is_prime[0] = is_prime[1] = False  # 0 and 1 are not prime numbers\n",
    "\n",
    "    for i in range(2, n):\n",
    "        if is_prime[i]:\n",
    "            primes.append(i)\n",
    "            for j in range(i*i, n, i):\n",
    "                is_prime[j] = False\n",
    "\n",
    "    return primes\n",
    "\n",
    "\n",
    "def run_tests():\n",
    "    test_cases = [\n",
    "        (10, [2, 3, 5, 7]),            # Test 1\n",
    "        (20, [2, 3, 5, 7, 11, 13, 17, 19]),  # Test 2\n",
    "        (30, [2, 3, 5, 7, 11, 13, 17, 19, 23, 29]),  # Test 3\n",
    "        (2, []),                      # Test 4\n",
    "        (3, [2]),                     # Test 5\n",
    "        (100, [2, 3, 5, 7, 11, 13, 17, 19, 23, 29, 31, 37, 41, 43, 47, 53, 59, 61, 67, 71, 73, 79, 83, 89, 97]),  # Test 6\n",
    "    ]\n",
    "\n",
    "    for i, (n, expected) in enumerate(test_cases):\n",
    "        result = generate_primes(n)\n",
    "        assert result == expected, f\"Test case {i + 1} failed: expected {expected}, got {result}\"\n",
    "        print(f\"Test case {i + 1} passed.\")\n",
    "\n",
    "    # Performance test case\n",
    "    import time\n",
    "    import random\n",
    "\n",
    "    n = 1000000\n",
    "    start_time = time.time()\n",
    "    try:\n",
    "        result = generate_primes(n)\n",
    "        elapsed_time = time.time() - start_time\n",
    "        print(f\"Performance test case passed in {elapsed_time:.4f} seconds.\")\n",
    "    except Exception as e:\n",
    "        print(f\"Performance test case failed: {e}\")\n",
    "\n",
    "run_tests()"
   ]
  },
  {
   "cell_type": "markdown",
   "metadata": {},
   "source": [
    "### Criteria\n",
    "#### Correctness (50%)\n",
    "    - The algorithm completes the test cases.\n",
    "    - The implementation correctly applies a correct method.\n",
    "\n",
    "#### Code Quality (20%)\n",
    "    - The code is clean and well-organized.\n",
    "    - Proper use of comments and variable names.\n",
    "\n",
    "#### Efficiency (10%)\n",
    "    - The implementation meets the performance test case.\n",
    "    - The implementation runs in a reasonable amount of time.\n",
    "\n",
    "#### Explanation (20%)\n",
    "    - The candidate clearly explained their approach and thought process.\n",
    "    - The candidate can identify and explain/justify any fixes/modifications/implementation done to the code."
   ]
  }
 ],
 "metadata": {
  "kernelspec": {
   "display_name": "dmiu_gym",
   "language": "python",
   "name": "python3"
  },
  "language_info": {
   "codemirror_mode": {
    "name": "ipython",
    "version": 3
   },
   "file_extension": ".py",
   "mimetype": "text/x-python",
   "name": "python",
   "nbconvert_exporter": "python",
   "pygments_lexer": "ipython3",
   "version": "3.9.13"
  }
 },
 "nbformat": 4,
 "nbformat_minor": 2
}
