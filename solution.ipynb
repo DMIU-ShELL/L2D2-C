{
 "cells": [
  {
   "cell_type": "markdown",
   "metadata": {},
   "source": [
    "## Programming task\n",
    "You have been given two exercises. An implementation has been provided for each, however, there are problems with the code that result in incorrect outputs. Determine the necessary fixes to meet the test cases. Ensure you write clean and understandable code, and include commenting/documentation where beneficial."
   ]
  },
  {
   "cell_type": "markdown",
   "metadata": {},
   "source": [
    "---------------------------------------------------------------------------------------------------------------------------------------------------------------------------------------------------------------------\n",
    "### Exercise 1: Palindromic DNA\n",
    "The Unimatrix research group aboard the USS Enterprise is tasked with analyzing DNA sequences to find palindromic patterns. These patterns are crucial for understanding alien genetic codes and detecting anomalies that might indicate bioengineering or naturally occuring phenomena.\n",
    "\n",
    "A DNA sequence is represented as a string of the characters 'A', 'T', 'C', and 'G'. A palindromic DNA sequence reads the same backward as forward.\n",
    "\n",
    "You are provided with a partially implemented Python function 'find_palindromic_sequences(dna_sequence)'. This function processes a string representing a DNA sequence and returns a sorted list of all unique palindromic subsequences found within the sequence. Your task is to complete and debug the function to ensure it works correctly and efficiently.\n"
   ]
  },
  {
   "cell_type": "code",
   "execution_count": 1,
   "metadata": {},
   "outputs": [],
   "source": [
    "# SOLUTION\n",
    "\n",
    "def find_palindromic_sequences(dna_sequence):\n",
    "    def expand_around_center(s, left, right):\n",
    "        while left >= 0 and right < len(s) and s[left] == s[right]:\n",
    "            palindromes.add(s[left:right + 1])\n",
    "            left -= 1\n",
    "            right += 1\n",
    "    \n",
    "    palindromes = set()\n",
    "    n = len(dna_sequence)\n",
    "    \n",
    "    for i in range(n):\n",
    "        # Odd-length palindromes (center at i)\n",
    "        expand_around_center(dna_sequence, i, i)\n",
    "        # Even-length palindromes (center between i and i+1)\n",
    "        if i < n - 1:\n",
    "            expand_around_center(dna_sequence, i, i + 1)\n",
    "    \n",
    "    # Filter out single character palindromes\n",
    "    filtered_palindromes = [p for p in palindromes if len(p) > 1]\n",
    "    \n",
    "    # Convert list to sorted list, sorted primarily by length and secondarily lexicographically\n",
    "    sorted_palindromes = sorted(filtered_palindromes, key=lambda x: (len(x), x))\n",
    "    return sorted_palindromes"
   ]
  },
  {
   "cell_type": "code",
   "execution_count": 7,
   "metadata": {},
   "outputs": [
    {
     "name": "stdout",
     "output_type": "stream",
     "text": [
      "Test case 1 passed.\n",
      "Test case 2 passed.\n",
      "Test case 3 passed.\n",
      "Test case 4 passed.\n",
      "Test case 5 passed.\n",
      "Test case 6 passed.\n",
      "Test case 7 passed.\n",
      "Test case 8 passed.\n",
      "Test case 9 passed.\n",
      "Test case 10 passed.\n",
      "Test case 11 passed.\n",
      "Test case 12 passed.\n",
      "Performance test case passed.\n"
     ]
    }
   ],
   "source": [
    "# Example usage and test cases\n",
    "def run_tests():\n",
    "    test_cases = [\n",
    "        (\"ATCGCTA\", ['CGC', 'TCGCT', 'ATCGCTA']),                       # Test 1\n",
    "        (\"AAA\", ['AA', 'AAA']),                                         # Test 2\n",
    "        (\"ATATATA\", ['ATA', 'TAT', 'ATATA', 'TATAT', 'ATATATA']),       # Test 3\n",
    "        (\"\", []),                                                       # Test 4\n",
    "        (\"GATTACACATTAG\", ['TT', 'ACA', 'CAC', 'ATTA', 'ACACA', 'TACACAT', 'TTACACATT', 'ATTACACATTA', 'GATTACACATTAG']), # Test 5\n",
    "        (\"AGCTTCTGA\", ['TT', 'TCT', 'CTTC']),                           # Test 6\n",
    "        (\"A\", []),                                                      # Test 7: Single character\n",
    "        (\"ACCA\", ['CC', 'ACCA']),                                       # Test 8: Even length palindrome\n",
    "        (\"ATCG\", []),                                                   # Test 9: No palindromes longer than 1\n",
    "        (\"AATTCCGGTTCCGG\", ['AA', 'CC', 'GG', 'TT']),                   # Test 10: Multiple small palindromes\n",
    "        (\"TACGCAT\", ['CGC', 'ACGCA', 'TACGCAT']),                       # Test 11: Mixed length palindrome\n",
    "        (\"ATGCGGCATCGAATGCGAGCCTGCGA\", ['AA', 'CC', 'GG', 'GAG', 'GCG', 'CGGC', 'CGAGC'])\n",
    "    ]\n",
    "\n",
    "    for i, (dna_sequence, expected) in enumerate(test_cases):\n",
    "        result = find_palindromic_sequences(dna_sequence)\n",
    "        assert result == expected, f\"Test case {i + 1} failed: expected {expected}, got {result}\"\n",
    "        print(f\"Test case {i + 1} passed.\")\n",
    "\n",
    "    # Performance test case\n",
    "    import random\n",
    "    dna_sequence = ''.join(random.choices(\"ATCG\", k=100000))\n",
    "    try:\n",
    "        result = find_palindromic_sequences(dna_sequence)\n",
    "        print(\"Performance test case passed.\")\n",
    "    except Exception as e:\n",
    "        print(f\"Performance test case failed: {e}\")\n",
    "\n",
    "run_tests()"
   ]
  },
  {
   "cell_type": "markdown",
   "metadata": {},
   "source": [
    "---------------------------------------------------------------------------------------------------------------------------------------------------------------------------------------------------------------------\n",
    "### Simulation 2: The Prime Directive\n",
    "The crew aboard the USS Enterprise has encountered a peculier anomaly during their exploration of the Gamma Quadrant. A newly discovered region known as the Prime Nexus is said to harbor an ancient civilization's hidden data repository. Admiral Ted and Commander Ben of the Starfleet command has tasked the Unimatrix research group with deciphering and extracting prime numbers encoded within the data fragments found in this repository.\n",
    "\n",
    "You are provided with a partially implemented Python function 'generate_primes(n: int) -> list:' that efficiently generates all prime numbers up to 'n' using the Sieve of Eratosthenes algorithm. This algorithm will sift through the data fragments to isolate and extract prime numbers, crucial for deciphering the encoded messages from the Prime Nexus repository. Your task is to complete and debug the function to ensure it works correctly and efficiently."
   ]
  },
  {
   "cell_type": "code",
   "execution_count": 3,
   "metadata": {},
   "outputs": [],
   "source": [
    "def generate_primes(n: int) -> list:\n",
    "    if n <= 2:\n",
    "        return []\n",
    "    \n",
    "    primes = []\n",
    "    is_prime = [True] * (n + 1)\n",
    "    is_prime[0] = is_prime[1] = False  # 0 and 1 are not prime numbers\n",
    "\n",
    "    for i in range(2, int(n ** 0.5) + 1):\n",
    "        if is_prime[i]:\n",
    "            for j in range(i * i, n + 1, i):\n",
    "                is_prime[j] = False\n",
    "    \n",
    "    primes = [i for i in range(2, n + 1) if is_prime[i]]\n",
    "\n",
    "    return primes"
   ]
  },
  {
   "cell_type": "code",
   "execution_count": 4,
   "metadata": {},
   "outputs": [
    {
     "name": "stdout",
     "output_type": "stream",
     "text": [
      "Test case 1 passed.\n",
      "Test case 2 passed.\n",
      "Test case 3 passed.\n",
      "Test case 4 passed.\n",
      "Test case 5 passed.\n",
      "Test case 6 passed.\n",
      "Test case 7 passed.\n",
      "Test case 8 passed.\n",
      "Test case 9 passed.\n",
      "Test case 10 passed.\n",
      "Test case 11 passed.\n",
      "Performance test case passed in 0.0832 seconds.\n"
     ]
    }
   ],
   "source": [
    "def run_tests():\n",
    "    test_cases = [\n",
    "        (10, [2, 3, 5, 7]),            # Test 1: Small range\n",
    "        (20, [2, 3, 5, 7, 11, 13, 17, 19]),  # Test 2: Moderate range\n",
    "        (30, [2, 3, 5, 7, 11, 13, 17, 19, 23, 29]),  # Test 3: Moderate range with higher primes\n",
    "        (2, []),                      # Test 4: Edge case - below first prime\n",
    "        (3, [2, 3]),                     # Test 5: Edge case - first prime\n",
    "        (100, [2, 3, 5, 7, 11, 13, 17, 19, 23, 29, 31, 37, 41, 43, 47, 53, 59, 61, 67, 71, 73, 79, 83, 89, 97]),  # Test 6: Larger range\n",
    "        (1, []),                      # Test 7: Edge case - below 2\n",
    "        (0, []),                      # Test 8: Edge case - 0\n",
    "        (50, [2, 3, 5, 7, 11, 13, 17, 19, 23, 29, 31, 37, 41, 43, 47]),  # Test 9: Larger range\n",
    "        (101, [2, 3, 5, 7, 11, 13, 17, 19, 23, 29, 31, 37, 41, 43, 47, 53, 59, 61, 67, 71, 73, 79, 83, 89, 97, 101]),  # Test 10: Include prime boundary\n",
    "        (997, [2, 3, 5, 7, 11, 13, 17, 19, 23, 29, 31, 37, 41, 43, 47, 53, 59, 61, 67, 71, 73, 79, 83, 89, 97, 101, 103, 107, 109, 113, 127, 131, 137, 139, 149, 151, 157, 163, 167, 173, 179, 181, 191, 193, 197, 199, 211, 223, 227, 229, 233, 239, 241, 251, 257, 263, 269, 271, 277, 281, 283, 293, 307, 311, 313, 317, 331, 337, 347, 349, 353, 359, 367, 373, 379, 383, 389, 397, 401, 409, 419, 421, 431, 433, 439, 443, 449, 457, 461, 463, 467, 479, 487, 491, 499, 503, 509, 521, 523, 541, 547, 557, 563, 569, 571, 577, 587, 593, 599, 601, 607, 613, 617, 619, 631, 641, 643, 647, 653, 659, 661, 673, 677, 683, 691, 701, 709, 719, 727, 733, 739, 743, 751, 757, 761, 769, 773, 787, 797, 809, 811, 821, 823, 827, 829, 839, 853, 857, 859, 863, 877, 881, 883, 887, 907, 911, 919, 929, 937, 941, 947, 953, 967, 971, 977, 983, 991, 997]),  # Test 11: Larger range with high prime boundary\n",
    "    ]\n",
    "\n",
    "    for i, (n, expected) in enumerate(test_cases):\n",
    "        result = generate_primes(n)\n",
    "        assert result == expected, f\"Test case {i + 1} failed: expected {expected}, got {result}\"\n",
    "        print(f\"Test case {i + 1} passed.\")\n",
    "\n",
    "    # Performance test case\n",
    "    import time\n",
    "    import random\n",
    "\n",
    "    n = 1000000\n",
    "    start_time = time.time()\n",
    "    try:\n",
    "        result = generate_primes(n)\n",
    "        elapsed_time = time.time() - start_time\n",
    "        print(f\"Performance test case passed in {elapsed_time:.4f} seconds.\")\n",
    "    except Exception as e:\n",
    "        print(f\"Performance test case failed: {e}\")\n",
    "\n",
    "run_tests()"
   ]
  }
 ],
 "metadata": {
  "kernelspec": {
   "display_name": "dmiu_gym",
   "language": "python",
   "name": "python3"
  },
  "language_info": {
   "codemirror_mode": {
    "name": "ipython",
    "version": 3
   },
   "file_extension": ".py",
   "mimetype": "text/x-python",
   "name": "python",
   "nbconvert_exporter": "python",
   "pygments_lexer": "ipython3",
   "version": "3.9.13"
  }
 },
 "nbformat": 4,
 "nbformat_minor": 2
}
