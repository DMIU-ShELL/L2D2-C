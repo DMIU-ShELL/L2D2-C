{
 "cells": [
  {
   "cell_type": "code",
   "execution_count": 1,
   "id": "7c7762dc-4f94-4167-815c-98ccee8d547f",
   "metadata": {},
   "outputs": [
    {
     "data": {
      "text/html": [
       "\n",
       "      <iframe id=\"tensorboard-frame-ca793de38905168d\" width=\"100%\" height=\"800\" frameborder=\"0\">\n",
       "      </iframe>\n",
       "      <script>\n",
       "        (function() {\n",
       "          const frame = document.getElementById(\"tensorboard-frame-ca793de38905168d\");\n",
       "          const url = new URL(\"/\", window.location);\n",
       "          const port = 6035;\n",
       "          if (port) {\n",
       "            url.port = port;\n",
       "          }\n",
       "          frame.src = url;\n",
       "        })();\n",
       "      </script>\n",
       "    "
      ],
      "text/plain": [
       "<IPython.core.display.HTML object>"
      ]
     },
     "metadata": {},
     "output_type": "display_data"
    }
   ],
   "source": [
    "%load_ext tensorboard\n",
    "%tensorboard --logdir='C:/DMIU-ShELL_PI_Meeting/log/MetaCTgraph-shell-dist-upz-seed-9158/agent_1/230124-153841/Detect_Component_Generated_Embeddings' --port=6035"
   ]
  },
  {
   "cell_type": "code",
   "execution_count": null,
   "id": "224784ef-2394-480a-941d-87a90520808b",
   "metadata": {},
   "outputs": [],
   "source": []
  }
 ],
 "metadata": {
  "kernelspec": {
   "display_name": "Python 3 (ipykernel)",
   "language": "python",
   "name": "python3"
  },
  "language_info": {
   "codemirror_mode": {
    "name": "ipython",
    "version": 3
   },
   "file_extension": ".py",
   "mimetype": "text/x-python",
   "name": "python",
   "nbconvert_exporter": "python",
   "pygments_lexer": "ipython3",
   "version": "3.9.13"
  }
 },
 "nbformat": 4,
 "nbformat_minor": 5
}
