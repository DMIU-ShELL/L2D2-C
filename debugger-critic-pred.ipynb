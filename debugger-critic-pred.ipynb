{
 "cells": [
  {
   "cell_type": "code",
   "execution_count": 1,
   "id": "6bde3400",
   "metadata": {},
   "outputs": [],
   "source": [
    "import pickle\n",
    "import json\n",
    "from pprint import pprint\n",
    "import numpy as np\n",
    "import matplotlib.pyplot as plt\n",
    "\n",
    "%matplotlib inline"
   ]
  },
  {
   "cell_type": "code",
   "execution_count": 2,
   "id": "910c238f",
   "metadata": {},
   "outputs": [
    {
     "name": "stdout",
     "output_type": "stream",
     "text": [
      "i= 1\n",
      "./log/CTgraph-v0-ppo-scp/211024-163716//episodes-task1_1.bin , j= 1\n",
      "./log/CTgraph-v0-ppo-scp/211024-163716//episodes-task2_1.bin , j= 2\n",
      "i= 2\n",
      "./log/CTgraph-v0-ppo-scp/211024-163716//episodes-task2_2.bin , j= 2\n"
     ]
    }
   ],
   "source": [
    "episodes, rewards = [], []\n",
    "path = './log/CTgraph-v0-ppo-scp/211024-163716/'\n",
    "with open('{0}/config.json'.format(path), 'r') as f: \n",
    "    config = json.load(f)\n",
    "num_tasks = config['cl_num_tasks']\n",
    "\n",
    "# load data\n",
    "for i in range(1, num_tasks+1):\n",
    "    episodes.append([])\n",
    "    rewards.append([])\n",
    "    print('i=', i)\n",
    "    #for j in range(1, i+1):\n",
    "    for j in range(i, (num_tasks+1)):\n",
    "        print('{0}/episodes-task{1}_{2}.bin'.format(path, j, i), ', j=', j)\n",
    "        with open('{0}/episodes-task{1}_{2}.bin'.format(path, j, i), 'rb') as f: episodes[-1].append(pickle.load(f))\n",
    "        with open('{0}/rewards-task{1}_{2}.bin'.format(path, j, i), 'rb') as f: rewards[-1].append(pickle.load(f))"
   ]
  },
  {
   "cell_type": "code",
   "execution_count": 3,
   "id": "ab06e8d5",
   "metadata": {},
   "outputs": [],
   "source": [
    "# structure of rewards: num_tasks, num_task_evals, episode_idx\n",
    "# structure of episodes: num_tasks, num_task_evals, episode_idx, ....(episode which is a dictionary)\n",
    "num_episodes = len(episodes[0][0])\n",
    "#pprint(episodes[0][0][0])\n",
    "\n",
    "def process_data_vector(data, num_tasks, num_episodes, key):\n",
    "    ret = [[] for _ in range(num_tasks)] # num_tasks, num_task_evals, num_episodes x episode_length\n",
    "    for i in range(num_tasks):\n",
    "        for j in range(num_tasks-i):\n",
    "            values = []\n",
    "            for k in range(num_episodes):\n",
    "                values_ = episodes[i][j][k][key]\n",
    "                values_ = [v.numpy().reshape(-1, ) for v in values_]\n",
    "                values.append(values_)\n",
    "            max_path_length = len(max(values, key=lambda v: len(v)))\n",
    "            vec_dim = len(values[0][0])\n",
    "            np_values = np.zeros((len(values), max_path_length, vec_dim), dtype=np.float32)\n",
    "            for idx, v in enumerate(values):\n",
    "                np_values[idx, 0 : len(v), : ] = v\n",
    "            ret[i].append(np_values)\n",
    "    return ret\n",
    "\n",
    "def process_data_scalar(data, num_tasks, num_episodes, key):\n",
    "    ret = [[] for _ in range(num_tasks)] # num_tasks, num_task_evals, num_episodes x episode_length\n",
    "    for i in range(num_tasks):\n",
    "        for j in range(num_tasks-i):\n",
    "            values = []\n",
    "            for k in range(num_episodes):\n",
    "                values_ = episodes[i][j][k][key]\n",
    "                values_ = [float(v) for v in values_]\n",
    "                values.append(values_)\n",
    "            max_path_length = len(max(values, key=lambda v: len(v)))\n",
    "            np_values = np.zeros((len(values), max_path_length), dtype=np.float32)\n",
    "            for idx, v in enumerate(values):\n",
    "                np_values[idx, 0 : len(v)] = v\n",
    "            ret[i].append(np_values)\n",
    "    return ret\n",
    "\n",
    "d = {}\n",
    "d['value'] = process_data_scalar(episodes, num_tasks, num_episodes, 'value')\n",
    "d['entropy'] = process_data_scalar(episodes, num_tasks, num_episodes, 'entropy')\n",
    "d['logits'] = process_data_vector(episodes, num_tasks, num_episodes, 'logits')\n",
    "d['sampled_action'] = process_data_scalar(episodes, num_tasks, num_episodes, 'sampled_action')\n",
    "d['deterministic_action'] = process_data_scalar(episodes, num_tasks, num_episodes, 'deterministic_action')\n",
    "d['log_prob'] = process_data_scalar(episodes, num_tasks, num_episodes, 'log_prob')\n",
    "d['reward'] = process_data_scalar(episodes, num_tasks, num_episodes, 'reward')\n",
    "d['terminal'] = process_data_scalar(episodes, num_tasks, num_episodes, 'terminal')\n",
    "#print('task1', d['value'][0][0].shape)\n",
    "#print('task2', d['value'][1][0].shape)\n",
    "#print('task3', d['value'][2][0].shape)\n",
    "#print('task4', d['value'][3][0].shape)"
   ]
  },
  {
   "cell_type": "code",
   "execution_count": 4,
   "id": "2eeb7cee",
   "metadata": {},
   "outputs": [
    {
     "name": "stdout",
     "output_type": "stream",
     "text": [
      "task 1\n",
      "\tafter training on task 1, eval: 1.0\n",
      "\tafter training on task 2, eval: 1.0\n",
      "task 2\n",
      "\tafter training on task 1, eval: 0.0\n",
      "\n",
      "task 1 avg reward: 1.0\n",
      "task 2 avg reward: 0.0\n"
     ]
    }
   ],
   "source": [
    "for i in range(num_tasks):\n",
    "    print('task {0}'.format(i+1))\n",
    "    for j in range(num_tasks - i):\n",
    "        print('\\tafter training on task {0}, eval: {1}'.format(j+1, d['reward'][i][j].sum(axis=1).mean()))\n",
    "    #print('-'*30)\n",
    "\n",
    "print()\n",
    "for i in range(num_tasks):\n",
    "    reward_ = 0\n",
    "    for j in range(num_tasks - i):\n",
    "        reward_ += d['reward'][i][j].sum(axis=1).mean()\n",
    "    \n",
    "    print('task {0} avg reward: {1}'.format(i+1, reward_/(num_tasks-i)))"
   ]
  },
  {
   "cell_type": "markdown",
   "id": "0d0ff45f",
   "metadata": {},
   "source": [
    "### after training on task 1, 2, 3 and 4 respectively, average critic prediction (value function) on task 1"
   ]
  },
  {
   "cell_type": "code",
   "execution_count": 5,
   "id": "f12b2d12",
   "metadata": {},
   "outputs": [
    {
     "data": {
      "image/png": "[encoded data removed]",
      "text/plain": [
       "<Figure size 1152x288 with 2 Axes>"
      ]
     },
     "metadata": {
      "needs_background": "light"
     },
     "output_type": "display_data"
    }
   ],
   "source": [
    "fig = plt.figure(figsize=(16, 4))\n",
    "axs = fig.subplots(1, num_tasks)\n",
    "for idx, ax in enumerate(axs):    \n",
    "    avg = d['value'][0][idx].mean(axis=0)\n",
    "    ax.plot(np.arange(1, len(avg)+1), avg)"
   ]
  },
  {
   "cell_type": "markdown",
   "id": "0d86ec25",
   "metadata": {},
   "source": [
    "### after training on task 2, 3 and 4 respectively, average critic prediction (value function) on task 2"
   ]
  },
  {
   "cell_type": "code",
   "execution_count": 6,
   "id": "4ebd6afb",
   "metadata": {},
   "outputs": [
    {
     "ename": "TypeError",
     "evalue": "'AxesSubplot' object is not iterable",
     "output_type": "error",
     "traceback": [
      "\u001b[0;31m---------------------------------------------------------------------------\u001b[0m",
      "\u001b[0;31mTypeError\u001b[0m                                 Traceback (most recent call last)",
      "\u001b[0;32m<ipython-input-6-cd4ceaa5a024>\u001b[0m in \u001b[0;36m<module>\u001b[0;34m\u001b[0m\n\u001b[1;32m      1\u001b[0m \u001b[0mfig\u001b[0m \u001b[0;34m=\u001b[0m \u001b[0mplt\u001b[0m\u001b[0;34m.\u001b[0m\u001b[0mfigure\u001b[0m\u001b[0;34m(\u001b[0m\u001b[0mfigsize\u001b[0m\u001b[0;34m=\u001b[0m\u001b[0;34m(\u001b[0m\u001b[0;36m16\u001b[0m\u001b[0;34m,\u001b[0m \u001b[0;36m4\u001b[0m\u001b[0;34m)\u001b[0m\u001b[0;34m)\u001b[0m\u001b[0;34m\u001b[0m\u001b[0;34m\u001b[0m\u001b[0m\n\u001b[1;32m      2\u001b[0m \u001b[0maxs\u001b[0m \u001b[0;34m=\u001b[0m \u001b[0mfig\u001b[0m\u001b[0;34m.\u001b[0m\u001b[0msubplots\u001b[0m\u001b[0;34m(\u001b[0m\u001b[0;36m1\u001b[0m\u001b[0;34m,\u001b[0m \u001b[0mnum_tasks\u001b[0m\u001b[0;34m-\u001b[0m\u001b[0;36m1\u001b[0m\u001b[0;34m)\u001b[0m\u001b[0;34m\u001b[0m\u001b[0;34m\u001b[0m\u001b[0m\n\u001b[0;32m----> 3\u001b[0;31m \u001b[0;32mfor\u001b[0m \u001b[0midx\u001b[0m\u001b[0;34m,\u001b[0m \u001b[0max\u001b[0m \u001b[0;32min\u001b[0m \u001b[0menumerate\u001b[0m\u001b[0;34m(\u001b[0m\u001b[0maxs\u001b[0m\u001b[0;34m)\u001b[0m\u001b[0;34m:\u001b[0m\u001b[0;34m\u001b[0m\u001b[0;34m\u001b[0m\u001b[0m\n\u001b[0m\u001b[1;32m      4\u001b[0m     \u001b[0mavg\u001b[0m \u001b[0;34m=\u001b[0m \u001b[0md\u001b[0m\u001b[0;34m[\u001b[0m\u001b[0;34m'value'\u001b[0m\u001b[0;34m]\u001b[0m\u001b[0;34m[\u001b[0m\u001b[0;36m1\u001b[0m\u001b[0;34m]\u001b[0m\u001b[0;34m[\u001b[0m\u001b[0midx\u001b[0m\u001b[0;34m]\u001b[0m\u001b[0;34m.\u001b[0m\u001b[0mmean\u001b[0m\u001b[0;34m(\u001b[0m\u001b[0maxis\u001b[0m\u001b[0;34m=\u001b[0m\u001b[0;36m0\u001b[0m\u001b[0;34m)\u001b[0m\u001b[0;34m\u001b[0m\u001b[0;34m\u001b[0m\u001b[0m\n\u001b[1;32m      5\u001b[0m     \u001b[0max\u001b[0m\u001b[0;34m.\u001b[0m\u001b[0mplot\u001b[0m\u001b[0;34m(\u001b[0m\u001b[0mnp\u001b[0m\u001b[0;34m.\u001b[0m\u001b[0marange\u001b[0m\u001b[0;34m(\u001b[0m\u001b[0;36m1\u001b[0m\u001b[0;34m,\u001b[0m \u001b[0mlen\u001b[0m\u001b[0;34m(\u001b[0m\u001b[0mavg\u001b[0m\u001b[0;34m)\u001b[0m\u001b[0;34m+\u001b[0m\u001b[0;36m1\u001b[0m\u001b[0;34m)\u001b[0m\u001b[0;34m,\u001b[0m \u001b[0mavg\u001b[0m\u001b[0;34m)\u001b[0m\u001b[0;34m\u001b[0m\u001b[0;34m\u001b[0m\u001b[0m\n",
      "\u001b[0;31mTypeError\u001b[0m: 'AxesSubplot' object is not iterable"
     ]
    },
    {
     "data": {
      "image/png": "[encoded data removed]",
      "text/plain": [
       "<Figure size 1152x288 with 1 Axes>"
      ]
     },
     "metadata": {
      "needs_background": "light"
     },
     "output_type": "display_data"
    }
   ],
   "source": [
    "fig = plt.figure(figsize=(16, 4))\n",
    "axs = fig.subplots(1, num_tasks-1)\n",
    "for idx, ax in enumerate(axs):    \n",
    "    avg = d['value'][1][idx].mean(axis=0)\n",
    "    ax.plot(np.arange(1, len(avg)+1), avg)"
   ]
  },
  {
   "cell_type": "markdown",
   "id": "c8e3673a",
   "metadata": {},
   "source": [
    "### after training on task 3 and 4 respectively, average critic prediction (value function) on task 3"
   ]
  },
  {
   "cell_type": "code",
   "execution_count": null,
   "id": "d4f02623",
   "metadata": {},
   "outputs": [],
   "source": [
    "fig = plt.figure(figsize=(16, 4))\n",
    "axs = fig.subplots(1, num_tasks-2)\n",
    "for idx, ax in enumerate(axs):    \n",
    "    avg = d['value'][2][idx].mean(axis=0)\n",
    "    ax.plot(np.arange(1, len(avg)+1), avg)"
   ]
  },
  {
   "cell_type": "code",
   "execution_count": null,
   "id": "6b4d354d",
   "metadata": {},
   "outputs": [],
   "source": [
    "fig = plt.figure(figsize=(16, 4))\n",
    "ax = fig.subplots()\n",
    "avg = d['value'][3][0].mean(axis=0)\n",
    "ax.plot(np.arange(1, len(avg)+1), avg)"
   ]
  },
  {
   "cell_type": "markdown",
   "id": "ebb3ee08",
   "metadata": {},
   "source": [
    "### TODO: plot td-error in addtion to critic prediction"
   ]
  },
  {
   "cell_type": "code",
   "execution_count": null,
   "id": "2b055548",
   "metadata": {},
   "outputs": [],
   "source": []
  }
 ],
 "metadata": {
  "kernelspec": {
   "display_name": "Python 3",
   "language": "python",
   "name": "python3"
  },
  "language_info": {
   "codemirror_mode": {
    "name": "ipython",
    "version": 3
   },
   "file_extension": ".py",
   "mimetype": "text/x-python",
   "name": "python",
   "nbconvert_exporter": "python",
   "pygments_lexer": "ipython3",
   "version": "3.6.12"
  }
 },
 "nbformat": 4,
 "nbformat_minor": 5
}
