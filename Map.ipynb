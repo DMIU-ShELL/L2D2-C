{
 "cells": [
  {
   "cell_type": "code",
   "execution_count": 1,
   "id": "4897869f-890b-48ea-9dd9-af9d47f09186",
   "metadata": {},
   "outputs": [
    {
     "name": "stdout",
     "output_type": "stream",
     "text": [
      "0.14.0\n"
     ]
    }
   ],
   "source": [
    "import folium\n",
    "print(folium.__version__)"
   ]
  },
  {
   "cell_type": "code",
   "execution_count": 2,
   "id": "e6f26bae-d8ca-4b59-8130-1f051df2e5f0",
   "metadata": {},
   "outputs": [],
   "source": [
    "from IPython.display import display\n",
    "from IPython.display import clear_output\n",
    "import time\n",
    "import pandas as pd"
   ]
  },
  {
   "cell_type": "code",
   "execution_count": 3,
   "id": "73c635ec-cc5b-47a0-b597-54811457495c",
   "metadata": {},
   "outputs": [],
   "source": [
    "#display(map)"
   ]
  },
  {
   "cell_type": "code",
   "execution_count": 4,
   "id": "e1951ccc-59f8-4b06-81b4-406511365c74",
   "metadata": {},
   "outputs": [],
   "source": [
    "map = folium.Map(zoom_start=4, tiles='CartoDB positron')"
   ]
  },
  {
   "cell_type": "code",
   "execution_count": 5,
   "id": "2e9bcfae-1335-4558-a9d9-83f9f811cb90",
   "metadata": {},
   "outputs": [],
   "source": [
    "dmiu_connected = pd.read_csv(\"/home/lunet/cocp5/Documents/ShELLV22/deeprl-shell/log/MetaCTgraph-shell-dist-upz-seed-9158/agent_1/230216-184706/connections.csv\")"
   ]
  },
  {
   "cell_type": "code",
   "execution_count": 6,
   "id": "785192df-49b2-4c5f-aaca-ef975e599612",
   "metadata": {},
   "outputs": [
    {
     "data": {
      "text/html": [
       "<div>\n",
       "<style scoped>\n",
       "    .dataframe tbody tr th:only-of-type {\n",
       "        vertical-align: middle;\n",
       "    }\n",
       "\n",
       "    .dataframe tbody tr th {\n",
       "        vertical-align: top;\n",
       "    }\n",
       "\n",
       "    .dataframe thead th {\n",
       "        text-align: right;\n",
       "    }\n",
       "</style>\n",
       "<table border=\"1\" class=\"dataframe\">\n",
       "  <thead>\n",
       "    <tr style=\"text-align: right;\">\n",
       "      <th></th>\n",
       "      <th>ip</th>\n",
       "      <th>port</th>\n",
       "      <th>country</th>\n",
       "      <th>city</th>\n",
       "      <th>region</th>\n",
       "      <th>timezone</th>\n",
       "      <th>postal</th>\n",
       "      <th>lat</th>\n",
       "      <th>long</th>\n",
       "      <th>timestamp</th>\n",
       "    </tr>\n",
       "  </thead>\n",
       "  <tbody>\n",
       "    <tr>\n",
       "      <th>0</th>\n",
       "      <td>158.125.168.72</td>\n",
       "      <td>9000</td>\n",
       "      <td>GB</td>\n",
       "      <td>Loughborough</td>\n",
       "      <td>England</td>\n",
       "      <td>Europe/London</td>\n",
       "      <td>LE11</td>\n",
       "      <td>52.7667</td>\n",
       "      <td>-1.2</td>\n",
       "      <td>1.676573e+09</td>\n",
       "    </tr>\n",
       "    <tr>\n",
       "      <th>1</th>\n",
       "      <td>158.125.168.72</td>\n",
       "      <td>9001</td>\n",
       "      <td>GB</td>\n",
       "      <td>Loughborough</td>\n",
       "      <td>England</td>\n",
       "      <td>Europe/London</td>\n",
       "      <td>LE11</td>\n",
       "      <td>52.7667</td>\n",
       "      <td>-1.2</td>\n",
       "      <td>1.676573e+09</td>\n",
       "    </tr>\n",
       "  </tbody>\n",
       "</table>\n",
       "</div>"
      ],
      "text/plain": [
       "               ip   port  country           city    region        timezone  \\\n",
       "0  158.125.168.72   9000       GB   Loughborough   England   Europe/London   \n",
       "1  158.125.168.72   9001       GB   Loughborough   England   Europe/London   \n",
       "\n",
       "   postal      lat   long     timestamp  \n",
       "0    LE11  52.7667   -1.2  1.676573e+09  \n",
       "1    LE11  52.7667   -1.2  1.676573e+09  "
      ]
     },
     "execution_count": 6,
     "metadata": {},
     "output_type": "execute_result"
    }
   ],
   "source": [
    "dmiu_connected"
   ]
  },
  {
   "cell_type": "code",
   "execution_count": 7,
   "id": "b397bde9-f143-492a-91eb-b15b976b44a3",
   "metadata": {},
   "outputs": [
    {
     "data": {
      "text/plain": [
       "2"
      ]
     },
     "execution_count": 7,
     "metadata": {},
     "output_type": "execute_result"
    }
   ],
   "source": [
    "dmiu_connected.shape[0]"
   ]
  },
  {
   "cell_type": "code",
   "execution_count": null,
   "id": "dd7df399-e3d5-4dd7-bc50-a2dcca2a8d73",
   "metadata": {},
   "outputs": [],
   "source": [
    "#dmiu02 = dmiu_connected.iloc[1]\n",
    "#miu02\n",
    "#print(dmiu02['lat'], dmiu02['long']"
   ]
  },
  {
   "cell_type": "code",
   "execution_count": null,
   "id": "7d6b526d-d272-45ec-a951-91afa33105d5",
   "metadata": {},
   "outputs": [],
   "source": [
    "#dmiu_connected.append({'hostname': 'lnx-grid47.vnblt.com', 'ip' : '158.553.444.47', 'port' : 25904, 'city':'Vanderbuilt', 'region':'US', 'timezone':'Nashville/Tinnessee', 'postal': 'VE12', 'lat': 36.148346, 'long':-86.82573, 'timestamp': 12}, ignore_index=True)"
   ]
  },
  {
   "cell_type": "code",
   "execution_count": null,
   "id": "8f2103b2-f04c-423c-b9b0-601df3f735e3",
   "metadata": {},
   "outputs": [],
   "source": [
    "place_holder = 0"
   ]
  },
  {
   "cell_type": "code",
   "execution_count": null,
   "id": "79a2ca2e-72bf-408c-86e2-dd7ea1973548",
   "metadata": {},
   "outputs": [],
   "source": [
    "dmiu_connected.index"
   ]
  },
  {
   "cell_type": "code",
   "execution_count": null,
   "id": "eb1165fb-7a15-41ca-8523-d4de4219b707",
   "metadata": {},
   "outputs": [],
   "source": [
    "\n",
    "for dmiu_id in range(place_holder, dmiu_connected.shape[0]):\n",
    "    print(place_holder)\n",
    "    print(\"iD:\", dmiu_id)\n",
    "    #print(dmiu_connected.loc[dmiu_id, ' lat'], dmiu_connected.loc[dmiu_id, ' long'])\n",
    "place_holder = dmiu_connected.shape[0]\n",
    "    #folium.Marker(location=[dmiu_connected.loc[dmiu_id, ' lat'], dmiu_connected.loc[dmiu_id, ' long']], popup=\"MSG\", tooltip=\"click me for info!\", icon=folium.Icon(color=\"red\")).add_to(map)"
   ]
  },
  {
   "cell_type": "code",
   "execution_count": 8,
   "id": "2f7e30c0-a123-4d7c-a60e-bb134bf9dc27",
   "metadata": {},
   "outputs": [],
   "source": [
    "#display(map)\n",
    "no_DMIU = 0\n",
    "place_holder = 0\n",
    "import random"
   ]
  },
  {
   "cell_type": "code",
   "execution_count": null,
   "id": "530cd7ad-b370-4437-b141-5ac9c1c3cb02",
   "metadata": {},
   "outputs": [
    {
     "data": {
      "text/html": [
       "<div style=\"width:100%;\"><div style=\"position:relative;width:100%;height:0;padding-bottom:60%;\"><span style=\"color:#565656\">Make this Notebook Trusted to load map: File -> Trust Notebook</span><iframe srcdoc=\"&lt;!DOCTYPE html&gt;\n",
       "&lt;html&gt;\n",
       "&lt;head&gt;\n",
       "    \n",
       "    &lt;meta http-equiv=&quot;content-type&quot; content=&quot;text/html; charset=UTF-8&quot; /&gt;\n",
       "    \n",
       "        &lt;script&gt;\n",
       "            L_NO_TOUCH = false;\n",
       "            L_DISABLE_3D = false;\n",
       "        &lt;/script&gt;\n",
       "    \n",
       "    &lt;style&gt;html, body {width: 100%;height: 100%;margin: 0;padding: 0;}&lt;/style&gt;\n",
       "    &lt;style&gt;#map {position:absolute;top:0;bottom:0;right:0;left:0;}&lt;/style&gt;\n",
       "    &lt;script src=&quot;https://cdn.jsdelivr.net/npm/leaflet@1.9.3/dist/leaflet.js&quot;&gt;&lt;/script&gt;\n",
       "    &lt;script src=&quot;https://code.jquery.com/jquery-1.12.4.min.js&quot;&gt;&lt;/script&gt;\n",
       "    &lt;script src=&quot;https://cdn.jsdelivr.net/npm/bootstrap@5.2.2/dist/js/bootstrap.bundle.min.js&quot;&gt;&lt;/script&gt;\n",
       "    &lt;script src=&quot;https://cdnjs.cloudflare.com/ajax/libs/Leaflet.awesome-markers/2.0.2/leaflet.awesome-markers.js&quot;&gt;&lt;/script&gt;\n",
       "    &lt;link rel=&quot;stylesheet&quot; href=&quot;https://cdn.jsdelivr.net/npm/leaflet@1.9.3/dist/leaflet.css&quot;/&gt;\n",
       "    &lt;link rel=&quot;stylesheet&quot; href=&quot;https://cdn.jsdelivr.net/npm/bootstrap@5.2.2/dist/css/bootstrap.min.css&quot;/&gt;\n",
       "    &lt;link rel=&quot;stylesheet&quot; href=&quot;https://netdna.bootstrapcdn.com/bootstrap/3.0.0/css/bootstrap.min.css&quot;/&gt;\n",
       "    &lt;link rel=&quot;stylesheet&quot; href=&quot;https://cdn.jsdelivr.net/npm/@fortawesome/fontawesome-free@6.2.0/css/all.min.css&quot;/&gt;\n",
       "    &lt;link rel=&quot;stylesheet&quot; href=&quot;https://cdnjs.cloudflare.com/ajax/libs/Leaflet.awesome-markers/2.0.2/leaflet.awesome-markers.css&quot;/&gt;\n",
       "    &lt;link rel=&quot;stylesheet&quot; href=&quot;https://cdn.jsdelivr.net/gh/python-visualization/folium/folium/templates/leaflet.awesome.rotate.min.css&quot;/&gt;\n",
       "    \n",
       "            &lt;meta name=&quot;viewport&quot; content=&quot;width=device-width,\n",
       "                initial-scale=1.0, maximum-scale=1.0, user-scalable=no&quot; /&gt;\n",
       "            &lt;style&gt;\n",
       "                #map_22b1270558bc1362f02122493feb99ba {\n",
       "                    position: relative;\n",
       "                    width: 100.0%;\n",
       "                    height: 100.0%;\n",
       "                    left: 0.0%;\n",
       "                    top: 0.0%;\n",
       "                }\n",
       "                .leaflet-container { font-size: 1rem; }\n",
       "            &lt;/style&gt;\n",
       "        \n",
       "&lt;/head&gt;\n",
       "&lt;body&gt;\n",
       "    \n",
       "    \n",
       "            &lt;div class=&quot;folium-map&quot; id=&quot;map_22b1270558bc1362f02122493feb99ba&quot; &gt;&lt;/div&gt;\n",
       "        \n",
       "&lt;/body&gt;\n",
       "&lt;script&gt;\n",
       "    \n",
       "    \n",
       "            var map_22b1270558bc1362f02122493feb99ba = L.map(\n",
       "                &quot;map_22b1270558bc1362f02122493feb99ba&quot;,\n",
       "                {\n",
       "                    center: [0, 0],\n",
       "                    crs: L.CRS.EPSG3857,\n",
       "                    zoom: 1,\n",
       "                    zoomControl: true,\n",
       "                    preferCanvas: false,\n",
       "                }\n",
       "            );\n",
       "\n",
       "            \n",
       "\n",
       "        \n",
       "    \n",
       "            var tile_layer_7c7e7d7d1010a0ea23fdfc2e3e746119 = L.tileLayer(\n",
       "                &quot;https://cartodb-basemaps-{s}.global.ssl.fastly.net/light_all/{z}/{x}/{y}.png&quot;,\n",
       "                {&quot;attribution&quot;: &quot;\\u0026copy; \\u003ca target=\\&quot;_blank\\&quot; href=\\&quot;http://www.openstreetmap.org/copyright\\&quot;\\u003eOpenStreetMap\\u003c/a\\u003e contributors \\u0026copy; \\u003ca target=\\&quot;_blank\\&quot; href=\\&quot;http://cartodb.com/attributions\\&quot;\\u003eCartoDB\\u003c/a\\u003e, CartoDB \\u003ca target=\\&quot;_blank\\&quot; href =\\&quot;http://cartodb.com/attributions\\&quot;\\u003eattributions\\u003c/a\\u003e&quot;, &quot;detectRetina&quot;: false, &quot;maxNativeZoom&quot;: 18, &quot;maxZoom&quot;: 18, &quot;minZoom&quot;: 0, &quot;noWrap&quot;: false, &quot;opacity&quot;: 1, &quot;subdomains&quot;: &quot;abc&quot;, &quot;tms&quot;: false}\n",
       "            ).addTo(map_22b1270558bc1362f02122493feb99ba);\n",
       "        \n",
       "    \n",
       "            var marker_4ba0cc55f60575504ec3f8384a124e83 = L.marker(\n",
       "                [55.7667, 1.8],\n",
       "                {}\n",
       "            ).addTo(map_22b1270558bc1362f02122493feb99ba);\n",
       "        \n",
       "    \n",
       "            var icon_a499dc083e439525c00ac041bff8396c = L.AwesomeMarkers.icon(\n",
       "                {&quot;extraClasses&quot;: &quot;fa-rotate-0&quot;, &quot;icon&quot;: &quot;info-sign&quot;, &quot;iconColor&quot;: &quot;white&quot;, &quot;markerColor&quot;: &quot;red&quot;, &quot;prefix&quot;: &quot;glyphicon&quot;}\n",
       "            );\n",
       "            marker_4ba0cc55f60575504ec3f8384a124e83.setIcon(icon_a499dc083e439525c00ac041bff8396c);\n",
       "        \n",
       "    \n",
       "        var popup_25cdb2e76fda4035bc0d0cc7b4f8b821 = L.popup({&quot;maxWidth&quot;: &quot;100%&quot;});\n",
       "\n",
       "        \n",
       "            \n",
       "                var html_02f3565bb61ebd6af944137846640c0b = $(`&lt;div id=&quot;html_02f3565bb61ebd6af944137846640c0b&quot; style=&quot;width: 100.0%; height: 100.0%;&quot;&gt;MSG&lt;/div&gt;`)[0];\n",
       "                popup_25cdb2e76fda4035bc0d0cc7b4f8b821.setContent(html_02f3565bb61ebd6af944137846640c0b);\n",
       "            \n",
       "        \n",
       "\n",
       "        marker_4ba0cc55f60575504ec3f8384a124e83.bindPopup(popup_25cdb2e76fda4035bc0d0cc7b4f8b821)\n",
       "        ;\n",
       "\n",
       "        \n",
       "    \n",
       "    \n",
       "            marker_4ba0cc55f60575504ec3f8384a124e83.bindTooltip(\n",
       "                `&lt;div&gt;\n",
       "                     click me for info!\n",
       "                 &lt;/div&gt;`,\n",
       "                {&quot;sticky&quot;: true}\n",
       "            );\n",
       "        \n",
       "    \n",
       "            var marker_439de2b2b318bb1e4d45b78f6890e847 = L.marker(\n",
       "                [53.7667, -2.2],\n",
       "                {}\n",
       "            ).addTo(map_22b1270558bc1362f02122493feb99ba);\n",
       "        \n",
       "    \n",
       "            var icon_29af6212108d709b0af03f0d9a0273f6 = L.AwesomeMarkers.icon(\n",
       "                {&quot;extraClasses&quot;: &quot;fa-rotate-0&quot;, &quot;icon&quot;: &quot;info-sign&quot;, &quot;iconColor&quot;: &quot;white&quot;, &quot;markerColor&quot;: &quot;red&quot;, &quot;prefix&quot;: &quot;glyphicon&quot;}\n",
       "            );\n",
       "            marker_439de2b2b318bb1e4d45b78f6890e847.setIcon(icon_29af6212108d709b0af03f0d9a0273f6);\n",
       "        \n",
       "    \n",
       "        var popup_4fea4a13799f50e8fcb82ffe3ded8f1c = L.popup({&quot;maxWidth&quot;: &quot;100%&quot;});\n",
       "\n",
       "        \n",
       "            \n",
       "                var html_10ed3b5a9010a48ff7b6a76cc216cb65 = $(`&lt;div id=&quot;html_10ed3b5a9010a48ff7b6a76cc216cb65&quot; style=&quot;width: 100.0%; height: 100.0%;&quot;&gt;MSG&lt;/div&gt;`)[0];\n",
       "                popup_4fea4a13799f50e8fcb82ffe3ded8f1c.setContent(html_10ed3b5a9010a48ff7b6a76cc216cb65);\n",
       "            \n",
       "        \n",
       "\n",
       "        marker_439de2b2b318bb1e4d45b78f6890e847.bindPopup(popup_4fea4a13799f50e8fcb82ffe3ded8f1c)\n",
       "        ;\n",
       "\n",
       "        \n",
       "    \n",
       "    \n",
       "            marker_439de2b2b318bb1e4d45b78f6890e847.bindTooltip(\n",
       "                `&lt;div&gt;\n",
       "                     click me for info!\n",
       "                 &lt;/div&gt;`,\n",
       "                {&quot;sticky&quot;: true}\n",
       "            );\n",
       "        \n",
       "    \n",
       "            var marker_3b10032451cc2cefd5b957762a5b6a54 = L.marker(\n",
       "                [50.7667, -5.2],\n",
       "                {}\n",
       "            ).addTo(map_22b1270558bc1362f02122493feb99ba);\n",
       "        \n",
       "    \n",
       "            var icon_74f63b096a6aaf602573b0c2de99c80a = L.AwesomeMarkers.icon(\n",
       "                {&quot;extraClasses&quot;: &quot;fa-rotate-0&quot;, &quot;icon&quot;: &quot;info-sign&quot;, &quot;iconColor&quot;: &quot;white&quot;, &quot;markerColor&quot;: &quot;red&quot;, &quot;prefix&quot;: &quot;glyphicon&quot;}\n",
       "            );\n",
       "            marker_3b10032451cc2cefd5b957762a5b6a54.setIcon(icon_74f63b096a6aaf602573b0c2de99c80a);\n",
       "        \n",
       "    \n",
       "        var popup_0003bbb42a38f644dd7599b4a4ecc4a6 = L.popup({&quot;maxWidth&quot;: &quot;100%&quot;});\n",
       "\n",
       "        \n",
       "            \n",
       "                var html_210e535dc7dce9543e90f6c8260198d5 = $(`&lt;div id=&quot;html_210e535dc7dce9543e90f6c8260198d5&quot; style=&quot;width: 100.0%; height: 100.0%;&quot;&gt;MSG&lt;/div&gt;`)[0];\n",
       "                popup_0003bbb42a38f644dd7599b4a4ecc4a6.setContent(html_210e535dc7dce9543e90f6c8260198d5);\n",
       "            \n",
       "        \n",
       "\n",
       "        marker_3b10032451cc2cefd5b957762a5b6a54.bindPopup(popup_0003bbb42a38f644dd7599b4a4ecc4a6)\n",
       "        ;\n",
       "\n",
       "        \n",
       "    \n",
       "    \n",
       "            marker_3b10032451cc2cefd5b957762a5b6a54.bindTooltip(\n",
       "                `&lt;div&gt;\n",
       "                     click me for info!\n",
       "                 &lt;/div&gt;`,\n",
       "                {&quot;sticky&quot;: true}\n",
       "            );\n",
       "        \n",
       "    \n",
       "            var marker_3a7ac76f13c11004b673664f3b6cad9a = L.marker(\n",
       "                [50.7667, -0.19999999999999996],\n",
       "                {}\n",
       "            ).addTo(map_22b1270558bc1362f02122493feb99ba);\n",
       "        \n",
       "    \n",
       "            var icon_7cdb3394cd4139ae2ee3afd1577ebd00 = L.AwesomeMarkers.icon(\n",
       "                {&quot;extraClasses&quot;: &quot;fa-rotate-0&quot;, &quot;icon&quot;: &quot;info-sign&quot;, &quot;iconColor&quot;: &quot;white&quot;, &quot;markerColor&quot;: &quot;red&quot;, &quot;prefix&quot;: &quot;glyphicon&quot;}\n",
       "            );\n",
       "            marker_3a7ac76f13c11004b673664f3b6cad9a.setIcon(icon_7cdb3394cd4139ae2ee3afd1577ebd00);\n",
       "        \n",
       "    \n",
       "        var popup_013c0f6dd7887923ef1a0eaff27d652f = L.popup({&quot;maxWidth&quot;: &quot;100%&quot;});\n",
       "\n",
       "        \n",
       "            \n",
       "                var html_c5c298c18df599bb65ad01eb0fa4c70d = $(`&lt;div id=&quot;html_c5c298c18df599bb65ad01eb0fa4c70d&quot; style=&quot;width: 100.0%; height: 100.0%;&quot;&gt;MSG&lt;/div&gt;`)[0];\n",
       "                popup_013c0f6dd7887923ef1a0eaff27d652f.setContent(html_c5c298c18df599bb65ad01eb0fa4c70d);\n",
       "            \n",
       "        \n",
       "\n",
       "        marker_3a7ac76f13c11004b673664f3b6cad9a.bindPopup(popup_013c0f6dd7887923ef1a0eaff27d652f)\n",
       "        ;\n",
       "\n",
       "        \n",
       "    \n",
       "    \n",
       "            marker_3a7ac76f13c11004b673664f3b6cad9a.bindTooltip(\n",
       "                `&lt;div&gt;\n",
       "                     click me for info!\n",
       "                 &lt;/div&gt;`,\n",
       "                {&quot;sticky&quot;: true}\n",
       "            );\n",
       "        \n",
       "&lt;/script&gt;\n",
       "&lt;/html&gt;\" style=\"position:absolute;width:100%;height:100%;left:0;top:0;border:none !important;\" allowfullscreen webkitallowfullscreen mozallowfullscreen></iframe></div></div>"
      ],
      "text/plain": [
       "<folium.folium.Map at 0x7f463c5151c0>"
      ]
     },
     "metadata": {},
     "output_type": "display_data"
    }
   ],
   "source": [
    "while True:\n",
    "    dmiu_connected = pd.read_csv(\"/home/lunet/cocp5/Documents/ShELLV22/deeprl-shell/log/MetaCTgraph-shell-dist-upz-seed-9158/agent_1/230216-184706/connections.csv\")\n",
    "    \n",
    "    if dmiu_connected.shape[0] > no_DMIU:\n",
    "        no_DMIU = dmiu_connected.shape[0]\n",
    "        \n",
    "        #map = folium.Map(location=[36.148346,  -86.80573], zoom_start=5, tiles='CartoDB positron')\n",
    "        \n",
    "        for dmiu_id in range(place_holder, dmiu_connected.shape[0]):\n",
    "            #print(dmiu_connected.loc[dmiu_id, ' lat'], dmiu_connected.loc[dmiu_id, ' long'])\n",
    "            folium.Marker(location=[dmiu_connected.loc[dmiu_id , ' lat'] + random.randrange(-5, 5), dmiu_connected.loc[dmiu_id, ' long'] + random.randrange(-5, 5)], popup=\"MSG\", tooltip=\"click me for info!\", icon=folium.Icon(color=\"red\")).add_to(map)\n",
    "        place_holder = dmiu_connected.shape[0]\n",
    "        clear_output()\n",
    "        display(map)\n",
    "        #time.sleep(30)\n",
    "        \n",
    "    else:\n",
    "        continue\n",
    "        \n",
    "    time.sleep(10)\n",
    "    \n",
    "    "
   ]
  },
  {
   "cell_type": "code",
   "execution_count": null,
   "id": "3836bf6c-23a3-4242-877f-3c27537df527",
   "metadata": {},
   "outputs": [],
   "source": []
  }
 ],
 "metadata": {
  "kernelspec": {
   "display_name": "Python 3 (ipykernel)",
   "language": "python",
   "name": "python3"
  },
  "language_info": {
   "codemirror_mode": {
    "name": "ipython",
    "version": 3
   },
   "file_extension": ".py",
   "mimetype": "text/x-python",
   "name": "python",
   "nbconvert_exporter": "python",
   "pygments_lexer": "ipython3",
   "version": "3.9.13"
  }
 },
 "nbformat": 4,
 "nbformat_minor": 5
}
