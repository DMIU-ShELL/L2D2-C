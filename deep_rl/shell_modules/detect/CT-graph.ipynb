{
 "cells": [
  {
   "cell_type": "code",
   "execution_count": 1,
   "metadata": {},
   "outputs": [],
   "source": [
    "from dissimilarity import *"
   ]
  },
  {
   "cell_type": "code",
   "execution_count": 2,
   "metadata": {},
   "outputs": [
    {
     "data": {
      "text/plain": [
       "(50000, 148)"
      ]
     },
     "execution_count": 2,
     "metadata": {},
     "output_type": "execute_result"
    }
   ],
   "source": [
    "data_T1R4 = np.load('/home/lunet/cocp5/Documents/ShELLV16/DeepRL-0.3/deep_rl/shell_modules/detect/CT_Graph_DATASET/1_POLICY_RANDOM/Input_Distribution_1/CT-I1R4P1/CT-I1R4P1.npy')\n",
    "data_T1R4.shape"
   ]
  },
  {
   "cell_type": "code",
   "execution_count": 3,
   "metadata": {},
   "outputs": [],
   "source": [
    "data_T1R3 = np.load('/home/lunet/cocp5/Documents/ShELLV16/DeepRL-0.3/deep_rl/shell_modules/detect/CT_Graph_DATASET/1_POLICY_RANDOM/Input_Distribution_1/CT-I1R3P1/CT-I1R3P1.npy')\n",
    "data_T1R2 = np.load('/home/lunet/cocp5/Documents/ShELLV16/DeepRL-0.3/deep_rl/shell_modules/detect/CT_Graph_DATASET/1_POLICY_RANDOM/Input_Distribution_1/CT-I1R2P1/CT-I1R2P1.npy')\n",
    "data_T1R1 = np.load('/home/lunet/cocp5/Documents/ShELLV16/DeepRL-0.3/deep_rl/shell_modules/detect/CT_Graph_DATASET/1_POLICY_RANDOM/Input_Distribution_1/CT-I1R1P1/CT-I1R1P1.npy')\n",
    "data_T2R1 = np.load('/home/lunet/cocp5/Documents/ShELLV16/DeepRL-0.3/deep_rl/shell_modules/detect/CT_Graph_DATASET/2_POLICY_OPTIMAL/Input_Distribution_1/CT-I1R1P2/CT-I1R1P2.npy')\n",
    "data_T2R2 = np.load('/home/lunet/cocp5/Documents/ShELLV16/DeepRL-0.3/deep_rl/shell_modules/detect/CT_Graph_DATASET/2_POLICY_OPTIMAL/Input_Distribution_1/CT-I1R2P2/CT-I1R2P2.npy')\n",
    "data_T2R3 = np.load('/home/lunet/cocp5/Documents/ShELLV16/DeepRL-0.3/deep_rl/shell_modules/detect/CT_Graph_DATASET/2_POLICY_OPTIMAL/Input_Distribution_1/CT-I1R3P2/CT-I1R3P2.npy')\n",
    "data_T2R4 = np.load('/home/lunet/cocp5/Documents/ShELLV16/DeepRL-0.3/deep_rl/shell_modules/detect/CT_Graph_DATASET/2_POLICY_OPTIMAL/Input_Distribution_1/CT-I1R4P2/CT-I1R4P2.npy')"
   ]
  },
  {
   "cell_type": "code",
   "execution_count": 4,
   "metadata": {},
   "outputs": [],
   "source": [
    "torch.manual_seed(98)\n",
    "reference = torch.rand(500, 148)"
   ]
  },
  {
   "cell_type": "code",
   "execution_count": 5,
   "metadata": {},
   "outputs": [
    {
     "name": "stderr",
     "output_type": "stream",
     "text": [
      "  0%|          | 0/5 [00:00<?, ?it/s]"
     ]
    },
    {
     "name": "stdout",
     "output_type": "stream",
     "text": [
      "PrePRocess_SAR_DETECT: tensor([[ 0.0000,  0.0000,  0.3828,  ...,  0.0000,  0.0000,  0.0000],\n",
      "        [ 0.0000,  0.0000,  0.1016,  ...,  0.0000,  0.0000,  0.0000],\n",
      "        [ 0.4609,  0.5625,  0.5391,  ...,  0.0000,  1.0000, -1.0000],\n",
      "        ...,\n",
      "        [ 0.0000,  0.0000,  0.0000,  ...,  1.0000,  0.0000, -1.0000],\n",
      "        [ 0.0000,  0.0000,  0.0000,  ...,  0.0000,  0.0000,  0.0000],\n",
      "        [ 0.0000,  0.0000,  0.1562,  ...,  1.0000,  0.0000,  0.0000]])\n",
      "torch.Size([16384, 148])\n",
      "PrePRocess_SAR_DETECT: tensor([[0.4844, 0.0859, 0.2266,  ..., 0.0000, 0.0000, 0.0000],\n",
      "        [0.0000, 0.0000, 0.0938,  ..., 1.0000, 0.0000, 0.0000],\n",
      "        [0.1641, 0.1328, 0.3438,  ..., 1.0000, 0.0000, 0.0000],\n",
      "        ...,\n",
      "        [0.1328, 0.1016, 0.5312,  ..., 0.0000, 0.0000, 0.0000],\n",
      "        [0.0000, 0.0000, 0.0312,  ..., 0.0000, 0.0000, 0.0000],\n",
      "        [0.0000, 0.0000, 0.0312,  ..., 0.0000, 0.0000, 0.0000]])\n",
      "torch.Size([16384, 148])\n",
      "PrePRocess_SAR_DETECT: tensor([[0.0000, 0.0000, 0.0156,  ..., 0.0000, 0.0000, 0.0000],\n",
      "        [0.0000, 0.0000, 0.0000,  ..., 0.0000, 0.0000, 0.0000],\n",
      "        [0.0234, 0.0625, 0.5234,  ..., 1.0000, 0.0000, 0.0000],\n",
      "        ...,\n",
      "        [0.0000, 0.0000, 0.0391,  ..., 0.0000, 0.0000, 0.0000],\n",
      "        [0.0000, 0.0000, 0.0312,  ..., 0.0000, 0.0000, 1.0000],\n",
      "        [0.0391, 0.1953, 0.2656,  ..., 0.0000, 0.0000, 0.0000]])\n",
      "torch.Size([16384, 148])\n",
      "PrePRocess_SAR_DETECT: tensor([[0.0000, 0.0000, 0.0391,  ..., 0.0000, 0.0000, 0.0000],\n",
      "        [0.0000, 0.0000, 0.1094,  ..., 0.0000, 0.0000, 0.0000],\n",
      "        [0.0000, 0.0000, 0.0312,  ..., 0.0000, 0.0000, 1.0000],\n",
      "        ...,\n",
      "        [0.0000, 0.0000, 0.0000,  ..., 0.0000, 0.0000, 0.0000],\n",
      "        [0.0000, 0.0000, 0.1328,  ..., 0.0000, 0.0000, 0.0000],\n",
      "        [0.0000, 0.2422, 0.1406,  ..., 0.0000, 0.0000, 1.0000]])\n",
      "torch.Size([16384, 148])\n",
      "PrePRocess_SAR_DETECT: tensor([[0.0000, 0.0000, 0.0391,  ..., 0.0000, 0.0000, 0.0000],\n",
      "        [0.2188, 0.0859, 0.7578,  ..., 0.0000, 0.0000, 0.0000],\n",
      "        [0.0000, 0.0000, 0.3750,  ..., 0.0000, 0.0000, 0.0000],\n",
      "        ...,\n",
      "        [0.0000, 0.0000, 0.0000,  ..., 0.0000, 0.0000, 0.0000],\n",
      "        [0.0000, 0.0000, 0.7109,  ..., 0.0000, 0.0000, 0.0000],\n",
      "        [0.0000, 0.0000, 0.0234,  ..., 0.0000, 0.0000, 0.0000]])\n",
      "torch.Size([16384, 148])\n",
      "PrePRocess_SAR_DETECT: tensor([[ 0.1016,  0.2500,  0.6016,  ...,  0.0000,  0.0000,  0.0000],\n",
      "        [ 0.0781,  0.3750,  0.5859,  ...,  0.0000,  0.0000,  0.0000],\n",
      "        [ 0.0312,  0.2812,  0.6562,  ...,  0.0000,  0.0000,  0.0000],\n",
      "        ...,\n",
      "        [ 0.0000,  0.0000,  0.0000,  ...,  0.0000,  0.0000,  0.0000],\n",
      "        [ 0.0000,  0.0000,  0.0000,  ...,  0.0000,  0.0000,  0.0000],\n",
      "        [ 0.0000,  0.0000,  0.0781,  ...,  0.0000,  1.0000, -1.0000]])\n",
      "torch.Size([16384, 148])\n",
      "PrePRocess_SAR_DETECT: tensor([[0.0000, 0.0000, 0.0000,  ..., 1.0000, 0.0000, 0.0000],\n",
      "        [0.0000, 0.0000, 0.0000,  ..., 0.0000, 0.0000, 0.0000],\n",
      "        [0.0000, 0.0000, 0.0000,  ..., 0.0000, 0.0000, 0.0000],\n",
      "        ...,\n",
      "        [0.0000, 0.0000, 0.0078,  ..., 0.0000, 0.0000, 0.0000],\n",
      "        [0.2578, 0.3438, 0.4609,  ..., 0.0000, 0.0000, 0.0000],\n",
      "        [0.0000, 0.0000, 0.1172,  ..., 0.0000, 0.0000, 0.0000]])\n",
      "torch.Size([16384, 148])\n",
      "PrePRocess_SAR_DETECT: tensor([[0.0000, 0.0000, 0.0391,  ..., 0.0000, 0.0000, 0.0000],\n",
      "        [0.0000, 0.0000, 0.0000,  ..., 0.0000, 1.0000, 0.0000],\n",
      "        [0.0000, 0.0781, 0.2500,  ..., 0.0000, 0.0000, 0.0000],\n",
      "        ...,\n",
      "        [0.0000, 0.0000, 0.0625,  ..., 0.0000, 0.0000, 1.0000],\n",
      "        [0.1719, 0.2969, 0.3672,  ..., 0.0000, 0.0000, 0.0000],\n",
      "        [0.0000, 0.0391, 0.1562,  ..., 0.0000, 0.0000, 1.0000]])\n",
      "torch.Size([16384, 148])\n"
     ]
    },
    {
     "name": "stderr",
     "output_type": "stream",
     "text": [
      " 20%|██        | 1/5 [00:47<03:11, 47.90s/it]"
     ]
    },
    {
     "name": "stdout",
     "output_type": "stream",
     "text": [
      "PrePRocess_SAR_DETECT: tensor([[ 0.0000,  0.0000,  0.0781,  ...,  1.0000,  0.0000,  0.0000],\n",
      "        [ 0.0000,  0.0000,  0.0234,  ...,  0.0000,  0.0000,  0.0000],\n",
      "        [ 0.2578,  0.4219,  0.5625,  ...,  1.0000,  0.0000,  0.0000],\n",
      "        ...,\n",
      "        [ 0.0000,  0.0000,  0.3438,  ...,  0.0000,  0.0000,  0.0000],\n",
      "        [ 0.0000,  0.0000,  0.0156,  ...,  0.0000,  1.0000, -1.0000],\n",
      "        [ 0.0000,  0.0000,  0.1016,  ...,  1.0000,  0.0000, -1.0000]])\n",
      "torch.Size([16384, 148])\n",
      "PrePRocess_SAR_DETECT: tensor([[ 0.0000,  0.0000,  0.1016,  ...,  0.0000,  0.0000,  0.0000],\n",
      "        [ 0.0000,  0.0000,  0.2109,  ...,  0.0000,  0.0000,  0.0000],\n",
      "        [ 0.0000,  0.0000,  0.0156,  ...,  0.0000,  0.0000,  0.0000],\n",
      "        ...,\n",
      "        [ 0.1797,  0.5078,  0.9219,  ...,  0.0000,  0.0000,  0.0000],\n",
      "        [ 0.0000,  0.0000,  0.0703,  ...,  1.0000,  0.0000,  0.0000],\n",
      "        [ 0.7500,  0.9531,  0.3672,  ...,  0.0000,  1.0000, -1.0000]])\n",
      "torch.Size([16384, 148])\n",
      "PrePRocess_SAR_DETECT: tensor([[0.0000, 0.0000, 0.2578,  ..., 0.0000, 0.0000, 0.0000],\n",
      "        [0.5156, 0.5547, 0.6562,  ..., 1.0000, 0.0000, 0.0000],\n",
      "        [0.0000, 0.0000, 0.0625,  ..., 1.0000, 0.0000, 0.0000],\n",
      "        ...,\n",
      "        [0.0000, 0.0000, 0.0000,  ..., 0.0000, 0.0000, 0.0000],\n",
      "        [0.0000, 0.0000, 0.3594,  ..., 0.0000, 0.0000, 1.0000],\n",
      "        [0.2500, 0.2109, 0.5156,  ..., 0.0000, 0.0000, 0.0000]])\n",
      "torch.Size([16384, 148])\n",
      "PrePRocess_SAR_DETECT: tensor([[0.0000, 0.0000, 0.0547,  ..., 0.0000, 0.0000, 0.0000],\n",
      "        [0.0000, 0.0000, 0.2578,  ..., 0.0000, 0.0000, 0.0000],\n",
      "        [0.0000, 0.0000, 0.1953,  ..., 0.0000, 0.0000, 0.0000],\n",
      "        ...,\n",
      "        [0.0000, 0.0000, 0.0000,  ..., 0.0000, 0.0000, 0.0000],\n",
      "        [0.3594, 0.5000, 0.4844,  ..., 0.0000, 0.0000, 0.0000],\n",
      "        [0.2812, 0.2266, 0.6094,  ..., 0.0000, 0.0000, 0.0000]])\n",
      "torch.Size([16384, 148])\n",
      "PrePRocess_SAR_DETECT: tensor([[ 0.0000,  0.0000,  0.0859,  ...,  0.0000,  1.0000, -1.0000],\n",
      "        [ 0.0000,  0.0000,  0.0391,  ...,  0.0000,  0.0000,  0.0000],\n",
      "        [ 0.0000,  0.0000,  0.1641,  ...,  0.0000,  0.0000,  0.0000],\n",
      "        ...,\n",
      "        [ 0.0000,  0.0781,  0.4453,  ...,  0.0000,  0.0000,  0.0000],\n",
      "        [ 0.7109,  1.0000,  0.6328,  ...,  0.0000,  1.0000, -1.0000],\n",
      "        [ 0.0000,  0.0000,  0.1328,  ...,  0.0000,  1.0000,  0.0000]])\n",
      "torch.Size([16384, 148])\n",
      "PrePRocess_SAR_DETECT: tensor([[ 0.0000,  0.0000,  0.0938,  ...,  1.0000,  0.0000,  0.0000],\n",
      "        [ 0.3438,  0.4766,  0.2891,  ...,  1.0000,  0.0000, -1.0000],\n",
      "        [ 0.0000,  0.0000,  0.3984,  ...,  0.0000,  0.0000,  0.0000],\n",
      "        ...,\n",
      "        [ 0.0000,  0.0234,  0.1172,  ...,  1.0000,  0.0000, -1.0000],\n",
      "        [ 0.0000,  0.0000,  0.0234,  ...,  1.0000,  0.0000,  0.0000],\n",
      "        [ 0.0000,  0.0000,  0.4766,  ...,  1.0000,  0.0000, -1.0000]])\n",
      "torch.Size([16384, 148])\n",
      "PrePRocess_SAR_DETECT: tensor([[0.0000, 0.0000, 0.1094,  ..., 0.0000, 0.0000, 0.0000],\n",
      "        [0.0000, 0.0000, 0.0000,  ..., 1.0000, 0.0000, 0.0000],\n",
      "        [0.0000, 0.0547, 0.3594,  ..., 0.0000, 0.0000, 0.0000],\n",
      "        ...,\n",
      "        [0.0000, 0.0000, 0.0625,  ..., 1.0000, 0.0000, 0.0000],\n",
      "        [0.0000, 0.0000, 0.0469,  ..., 0.0000, 0.0000, 0.0000],\n",
      "        [0.0000, 0.0000, 0.2812,  ..., 0.0000, 0.0000, 0.0000]])\n",
      "torch.Size([16384, 148])\n",
      "PrePRocess_SAR_DETECT: tensor([[0.0000, 0.0547, 0.2578,  ..., 1.0000, 0.0000, 0.0000],\n",
      "        [0.0000, 0.0000, 0.2656,  ..., 0.0000, 0.0000, 0.0000],\n",
      "        [0.0000, 0.0312, 0.4531,  ..., 0.0000, 0.0000, 0.0000],\n",
      "        ...,\n",
      "        [0.0000, 0.0000, 0.0547,  ..., 0.0000, 0.0000, 0.0000],\n",
      "        [0.0000, 0.0000, 0.0078,  ..., 0.0000, 0.0000, 0.0000],\n",
      "        [0.1484, 0.1016, 0.4609,  ..., 0.0000, 1.0000, 0.0000]])\n",
      "torch.Size([16384, 148])\n"
     ]
    },
    {
     "name": "stderr",
     "output_type": "stream",
     "text": [
      " 40%|████      | 2/5 [01:35<02:22, 47.63s/it]"
     ]
    },
    {
     "name": "stdout",
     "output_type": "stream",
     "text": [
      "PrePRocess_SAR_DETECT: tensor([[ 0.2812,  0.3125,  0.1406,  ...,  0.0000,  1.0000, -1.0000],\n",
      "        [ 0.5391,  1.0156,  0.5625,  ...,  0.0000,  0.0000, -1.0000],\n",
      "        [ 0.0000,  0.0000,  0.2031,  ...,  1.0000,  0.0000,  0.0000],\n",
      "        ...,\n",
      "        [ 0.0000,  0.0000,  0.2500,  ...,  0.0000,  0.0000,  0.0000],\n",
      "        [ 0.0000,  0.0000,  0.0000,  ...,  0.0000,  0.0000,  0.0000],\n",
      "        [ 0.0000,  0.0000,  0.0156,  ...,  0.0000,  0.0000,  0.0000]])\n",
      "torch.Size([16384, 148])\n",
      "PrePRocess_SAR_DETECT: tensor([[ 0.0000,  0.0000,  0.0703,  ...,  0.0000,  1.0000,  0.0000],\n",
      "        [ 0.0000,  0.0000,  0.1719,  ...,  0.0000,  1.0000, -1.0000],\n",
      "        [ 0.0000,  0.0000,  0.0078,  ...,  1.0000,  0.0000,  0.0000],\n",
      "        ...,\n",
      "        [ 0.0000,  0.0000,  0.2422,  ...,  0.0000,  1.0000, -1.0000],\n",
      "        [ 0.0312,  0.1328,  0.5391,  ...,  0.0000,  0.0000,  0.0000],\n",
      "        [ 0.0000,  0.0000,  0.0391,  ...,  0.0000,  0.0000,  0.0000]])\n",
      "torch.Size([16384, 148])\n",
      "PrePRocess_SAR_DETECT: tensor([[0.0000, 0.0000, 0.0859,  ..., 0.0000, 0.0000, 0.0000],\n",
      "        [0.0000, 0.0000, 0.1406,  ..., 0.0000, 0.0000, 0.0000],\n",
      "        [0.0000, 0.0000, 0.0234,  ..., 0.0000, 0.0000, 0.0000],\n",
      "        ...,\n",
      "        [0.0000, 0.0000, 0.0156,  ..., 0.0000, 0.0000, 0.0000],\n",
      "        [0.0000, 0.0000, 0.0234,  ..., 0.0000, 0.0000, 0.0000],\n",
      "        [0.0000, 0.0625, 0.0859,  ..., 0.0000, 0.0000, 0.0000]])\n",
      "torch.Size([16384, 148])\n",
      "PrePRocess_SAR_DETECT: tensor([[0.0000, 0.0000, 0.0625,  ..., 1.0000, 0.0000, 0.0000],\n",
      "        [0.0000, 0.0000, 0.0156,  ..., 1.0000, 0.0000, 0.0000],\n",
      "        [0.0000, 0.0000, 0.9375,  ..., 0.0000, 0.0000, 1.0000],\n",
      "        ...,\n",
      "        [0.3203, 0.4062, 0.3125,  ..., 0.0000, 0.0000, 0.0000],\n",
      "        [0.0000, 0.0000, 0.0469,  ..., 1.0000, 0.0000, 0.0000],\n",
      "        [0.0781, 0.1719, 0.4141,  ..., 1.0000, 0.0000, 0.0000]])\n",
      "torch.Size([16384, 148])\n",
      "PrePRocess_SAR_DETECT: tensor([[ 0.0469,  0.2031,  0.2734,  ...,  1.0000,  0.0000, -1.0000],\n",
      "        [ 0.0000,  0.0000,  0.0000,  ...,  1.0000,  0.0000,  0.0000],\n",
      "        [ 0.0000,  0.0000,  0.0234,  ...,  0.0000,  0.0000,  0.0000],\n",
      "        ...,\n",
      "        [ 0.0000,  0.0000,  0.0234,  ...,  0.0000,  0.0000,  0.0000],\n",
      "        [ 0.1250,  0.2109,  0.2578,  ...,  0.0000,  1.0000, -1.0000],\n",
      "        [ 0.0000,  0.0000,  0.4062,  ...,  1.0000,  0.0000,  0.0000]])\n",
      "torch.Size([16384, 148])\n",
      "PrePRocess_SAR_DETECT: tensor([[ 0.0000,  0.0000,  0.0859,  ...,  0.0000,  0.0000,  0.0000],\n",
      "        [ 0.0000,  0.0000,  0.0156,  ...,  1.0000,  0.0000, -1.0000],\n",
      "        [ 0.0000,  0.0000,  0.0000,  ...,  1.0000,  0.0000,  0.0000],\n",
      "        ...,\n",
      "        [ 0.0000,  0.0000,  0.0000,  ...,  0.0000,  1.0000,  0.0000],\n",
      "        [ 0.0000,  0.0000,  0.6016,  ...,  0.0000,  0.0000,  0.0000],\n",
      "        [ 0.0000,  0.0000,  0.1406,  ...,  0.0000,  0.0000,  0.0000]])\n",
      "torch.Size([16384, 148])\n",
      "PrePRocess_SAR_DETECT: tensor([[0.0000, 0.0000, 0.1484,  ..., 0.0000, 0.0000, 0.0000],\n",
      "        [0.0000, 0.0000, 0.0234,  ..., 0.0000, 0.0000, 0.0000],\n",
      "        [0.0000, 0.0000, 0.0156,  ..., 0.0000, 0.0000, 0.0000],\n",
      "        ...,\n",
      "        [0.0000, 0.0000, 0.0469,  ..., 0.0000, 0.0000, 0.0000],\n",
      "        [0.0000, 0.0000, 0.1797,  ..., 0.0000, 0.0000, 0.0000],\n",
      "        [0.0000, 0.0000, 0.1094,  ..., 1.0000, 0.0000, 0.0000]])\n",
      "torch.Size([16384, 148])\n",
      "PrePRocess_SAR_DETECT: tensor([[0.0000, 0.0000, 0.0156,  ..., 0.0000, 0.0000, 0.0000],\n",
      "        [0.0703, 0.3281, 0.7031,  ..., 0.0000, 0.0000, 0.0000],\n",
      "        [0.0000, 0.0000, 0.1250,  ..., 0.0000, 0.0000, 0.0000],\n",
      "        ...,\n",
      "        [0.0000, 0.0000, 0.1094,  ..., 0.0000, 0.0000, 0.0000],\n",
      "        [0.0000, 0.0000, 0.3828,  ..., 0.0000, 0.0000, 1.0000],\n",
      "        [0.0000, 0.0000, 0.0000,  ..., 0.0000, 0.0000, 0.0000]])\n",
      "torch.Size([16384, 148])\n"
     ]
    },
    {
     "name": "stderr",
     "output_type": "stream",
     "text": [
      " 60%|██████    | 3/5 [02:22<01:34, 47.34s/it]"
     ]
    },
    {
     "name": "stdout",
     "output_type": "stream",
     "text": [
      "PrePRocess_SAR_DETECT: tensor([[ 0.0000,  0.0000,  0.3438,  ...,  1.0000,  0.0000, -1.0000],\n",
      "        [ 0.0000,  0.0000,  0.0234,  ...,  0.0000,  0.0000,  0.0000],\n",
      "        [ 0.0000,  0.0000,  0.0234,  ...,  1.0000,  0.0000, -1.0000],\n",
      "        ...,\n",
      "        [ 0.0000,  0.0000,  0.4062,  ...,  0.0000,  0.0000, -1.0000],\n",
      "        [ 0.0000,  0.0000,  0.0859,  ...,  1.0000,  0.0000,  0.0000],\n",
      "        [ 0.0000,  0.0000,  0.1016,  ...,  1.0000,  0.0000,  0.0000]])\n",
      "torch.Size([16384, 148])\n",
      "PrePRocess_SAR_DETECT: tensor([[ 0.0000,  0.0000,  0.0312,  ...,  0.0000,  1.0000, -1.0000],\n",
      "        [ 0.4141,  0.6719,  0.9766,  ...,  0.0000,  0.0000,  0.0000],\n",
      "        [ 0.0000,  0.0000,  0.0000,  ...,  0.0000,  0.0000,  0.0000],\n",
      "        ...,\n",
      "        [ 0.6484,  0.3281,  0.2031,  ...,  0.0000,  1.0000,  0.0000],\n",
      "        [ 0.6016,  0.5156,  0.3516,  ...,  1.0000,  0.0000, -1.0000],\n",
      "        [ 0.0000,  0.0312,  0.5000,  ...,  0.0000,  0.0000,  0.0000]])\n",
      "torch.Size([16384, 148])\n",
      "PrePRocess_SAR_DETECT: tensor([[0.3203, 0.3906, 0.3516,  ..., 0.0000, 0.0000, 0.0000],\n",
      "        [0.0000, 0.0000, 0.0000,  ..., 1.0000, 0.0000, 0.0000],\n",
      "        [0.0000, 0.0000, 0.0312,  ..., 0.0000, 0.0000, 0.0000],\n",
      "        ...,\n",
      "        [0.0000, 0.0000, 0.0312,  ..., 0.0000, 0.0000, 0.0000],\n",
      "        [0.0000, 0.0000, 0.0000,  ..., 0.0000, 0.0000, 0.0000],\n",
      "        [0.0000, 0.0000, 0.0391,  ..., 0.0000, 0.0000, 0.0000]])\n",
      "torch.Size([16384, 148])\n",
      "PrePRocess_SAR_DETECT: tensor([[0.0859, 0.2656, 0.6328,  ..., 0.0000, 0.0000, 0.0000],\n",
      "        [0.3047, 0.3203, 0.5703,  ..., 0.0000, 0.0000, 0.0000],\n",
      "        [0.0000, 0.0000, 0.0078,  ..., 1.0000, 0.0000, 0.0000],\n",
      "        ...,\n",
      "        [0.0000, 0.0000, 0.0312,  ..., 0.0000, 0.0000, 0.0000],\n",
      "        [0.0000, 0.0000, 0.0234,  ..., 0.0000, 0.0000, 0.0000],\n",
      "        [0.0000, 0.0000, 0.0391,  ..., 0.0000, 0.0000, 0.0000]])\n",
      "torch.Size([16384, 148])\n",
      "PrePRocess_SAR_DETECT: tensor([[ 0.0000,  0.0000,  0.0938,  ...,  1.0000,  0.0000,  0.0000],\n",
      "        [ 0.0547,  0.1484,  0.2812,  ...,  0.0000,  1.0000, -1.0000],\n",
      "        [ 0.0000,  0.0000,  0.0000,  ...,  0.0000,  1.0000,  0.0000],\n",
      "        ...,\n",
      "        [ 0.0000,  0.0000,  0.0156,  ...,  0.0000,  0.0000,  0.0000],\n",
      "        [ 0.0000,  0.0000,  0.1328,  ...,  0.0000,  0.0000,  0.0000],\n",
      "        [ 0.0000,  0.0000,  0.0469,  ...,  0.0000,  0.0000,  0.0000]])\n",
      "torch.Size([16384, 148])\n",
      "PrePRocess_SAR_DETECT: tensor([[ 0.0000,  0.0391,  0.1875,  ...,  1.0000,  0.0000, -1.0000],\n",
      "        [ 0.1953,  0.2656,  0.3750,  ...,  1.0000,  0.0000,  0.0000],\n",
      "        [ 0.0000,  0.1562,  0.2812,  ...,  0.0000,  0.0000,  0.0000],\n",
      "        ...,\n",
      "        [ 0.0000,  0.0469,  0.3125,  ...,  0.0000,  1.0000,  0.0000],\n",
      "        [ 0.0000,  0.0000,  0.0078,  ...,  0.0000,  0.0000,  0.0000],\n",
      "        [ 0.0156,  0.1250,  0.3125,  ...,  0.0000,  0.0000,  0.0000]])\n",
      "torch.Size([16384, 148])\n",
      "PrePRocess_SAR_DETECT: tensor([[0.0000, 0.0000, 0.0156,  ..., 1.0000, 0.0000, 0.0000],\n",
      "        [0.0000, 0.0000, 0.0938,  ..., 0.0000, 0.0000, 0.0000],\n",
      "        [0.0000, 0.0000, 0.0781,  ..., 0.0000, 0.0000, 0.0000],\n",
      "        ...,\n",
      "        [0.0000, 0.0000, 0.1406,  ..., 0.0000, 0.0000, 0.0000],\n",
      "        [0.5312, 0.9922, 1.0234,  ..., 0.0000, 0.0000, 0.0000],\n",
      "        [0.0000, 0.0000, 0.0000,  ..., 0.0000, 0.0000, 0.0000]])\n",
      "torch.Size([16384, 148])\n",
      "PrePRocess_SAR_DETECT: tensor([[0.0000, 0.0000, 0.0312,  ..., 0.0000, 0.0000, 0.0000],\n",
      "        [0.0000, 0.0000, 0.0469,  ..., 0.0000, 0.0000, 0.0000],\n",
      "        [0.0000, 0.3125, 0.6484,  ..., 0.0000, 0.0000, 0.0000],\n",
      "        ...,\n",
      "        [0.0000, 0.1172, 0.4609,  ..., 0.0000, 0.0000, 0.0000],\n",
      "        [0.0000, 0.0000, 0.0000,  ..., 0.0000, 0.0000, 0.0000],\n",
      "        [0.0000, 0.0000, 0.1016,  ..., 0.0000, 0.0000, 0.0000]])\n",
      "torch.Size([16384, 148])\n"
     ]
    },
    {
     "name": "stderr",
     "output_type": "stream",
     "text": [
      " 80%|████████  | 4/5 [03:07<00:46, 46.34s/it]"
     ]
    },
    {
     "name": "stdout",
     "output_type": "stream",
     "text": [
      "PrePRocess_SAR_DETECT: tensor([[ 0.0000,  0.0000,  0.0000,  ...,  0.0000,  1.0000, -1.0000],\n",
      "        [ 0.0000,  0.0156,  0.3438,  ...,  1.0000,  0.0000,  0.0000],\n",
      "        [ 0.0000,  0.0000,  0.0000,  ...,  0.0000,  0.0000,  0.0000],\n",
      "        ...,\n",
      "        [ 0.0000,  0.0000,  0.0000,  ...,  1.0000,  0.0000,  0.0000],\n",
      "        [ 0.0000,  0.0000,  0.0156,  ...,  0.0000,  0.0000,  0.0000],\n",
      "        [ 0.0000,  0.0000,  0.0859,  ...,  0.0000,  0.0000,  0.0000]])\n",
      "torch.Size([16384, 148])\n",
      "PrePRocess_SAR_DETECT: tensor([[ 0.5703,  0.1406,  0.5859,  ...,  0.0000,  0.0000,  0.0000],\n",
      "        [ 0.0000,  0.0000,  0.0156,  ...,  0.0000,  1.0000,  0.0000],\n",
      "        [ 0.0000,  0.0000,  0.1016,  ...,  0.0000,  1.0000, -1.0000],\n",
      "        ...,\n",
      "        [ 0.2422,  0.2656,  0.5078,  ...,  0.0000,  1.0000,  0.0000],\n",
      "        [ 0.4375,  0.4375,  0.4375,  ...,  1.0000,  0.0000, -1.0000],\n",
      "        [ 0.0000,  0.0000,  0.0000,  ...,  0.0000,  0.0000,  0.0000]])\n",
      "torch.Size([16384, 148])\n",
      "PrePRocess_SAR_DETECT: tensor([[0.0000, 0.0000, 0.0312,  ..., 0.0000, 0.0000, 0.0000],\n",
      "        [0.0000, 0.0000, 0.0156,  ..., 1.0000, 0.0000, 0.0000],\n",
      "        [0.0000, 0.0000, 0.1953,  ..., 0.0000, 0.0000, 0.0000],\n",
      "        ...,\n",
      "        [0.0625, 0.4375, 0.6562,  ..., 0.0000, 0.0000, 0.0000],\n",
      "        [0.0000, 0.0000, 0.2656,  ..., 0.0000, 0.0000, 0.0000],\n",
      "        [0.0000, 0.0000, 0.0000,  ..., 1.0000, 0.0000, 0.0000]])\n",
      "torch.Size([16384, 148])\n",
      "PrePRocess_SAR_DETECT: tensor([[0.0000, 0.0000, 0.0000,  ..., 0.0000, 0.0000, 0.0000],\n",
      "        [0.0000, 0.0000, 0.0000,  ..., 0.0000, 0.0000, 0.0000],\n",
      "        [0.0234, 0.0781, 0.3438,  ..., 0.0000, 0.0000, 0.0000],\n",
      "        ...,\n",
      "        [0.0000, 0.0000, 0.1250,  ..., 0.0000, 0.0000, 0.0000],\n",
      "        [0.0000, 0.0000, 0.1484,  ..., 1.0000, 0.0000, 0.0000],\n",
      "        [0.0000, 0.0000, 0.1250,  ..., 0.0000, 0.0000, 0.0000]])\n",
      "torch.Size([16384, 148])\n",
      "PrePRocess_SAR_DETECT: tensor([[ 0.0000,  0.0000,  0.0312,  ...,  0.0000,  1.0000, -1.0000],\n",
      "        [ 0.3594,  0.8359,  1.2266,  ...,  0.0000,  0.0000,  0.0000],\n",
      "        [ 0.0000,  0.0000,  0.0156,  ...,  0.0000,  0.0000,  0.0000],\n",
      "        ...,\n",
      "        [ 0.0000,  0.0000,  0.0547,  ...,  0.0000,  0.0000,  0.0000],\n",
      "        [ 0.0000,  0.0000,  0.2109,  ...,  0.0000,  0.0000,  0.0000],\n",
      "        [ 0.0000,  0.0000,  0.4141,  ...,  0.0000,  0.0000,  0.0000]])\n",
      "torch.Size([16384, 148])\n",
      "PrePRocess_SAR_DETECT: tensor([[ 0.0000,  0.0000,  0.1172,  ...,  0.0000,  0.0000,  0.0000],\n",
      "        [ 0.4219,  1.2891,  1.4766,  ...,  0.0000,  0.0000,  0.0000],\n",
      "        [ 0.0000,  0.0000,  0.0391,  ...,  0.0000,  0.0000,  0.0000],\n",
      "        ...,\n",
      "        [ 0.0000,  0.0000,  0.7891,  ...,  0.0000,  1.0000, -1.0000],\n",
      "        [ 0.0000,  0.0000,  0.1250,  ...,  0.0000,  0.0000,  0.0000],\n",
      "        [ 0.0234,  0.2031,  0.4766,  ...,  0.0000,  1.0000,  0.0000]])\n",
      "torch.Size([16384, 148])\n",
      "PrePRocess_SAR_DETECT: tensor([[0.0000, 0.0000, 0.0625,  ..., 0.0000, 0.0000, 0.0000],\n",
      "        [0.0781, 0.0938, 0.4375,  ..., 1.0000, 0.0000, 0.0000],\n",
      "        [0.0000, 0.0000, 0.4297,  ..., 0.0000, 0.0000, 0.0000],\n",
      "        ...,\n",
      "        [0.0000, 0.0000, 0.1016,  ..., 0.0000, 0.0000, 0.0000],\n",
      "        [0.1016, 0.2422, 0.4844,  ..., 0.0000, 0.0000, 0.0000],\n",
      "        [0.0000, 0.0000, 0.0781,  ..., 1.0000, 0.0000, 0.0000]])\n",
      "torch.Size([16384, 148])\n",
      "PrePRocess_SAR_DETECT: tensor([[0.0000, 0.0000, 0.3516,  ..., 0.0000, 0.0000, 1.0000],\n",
      "        [0.0000, 0.0000, 0.0703,  ..., 1.0000, 0.0000, 0.0000],\n",
      "        [0.0078, 0.1641, 0.3281,  ..., 1.0000, 0.0000, 0.0000],\n",
      "        ...,\n",
      "        [0.0000, 0.0000, 0.1406,  ..., 0.0000, 0.0000, 0.0000],\n",
      "        [0.0000, 0.0000, 0.1641,  ..., 0.0000, 0.0000, 0.0000],\n",
      "        [0.0000, 0.0000, 0.0000,  ..., 0.0000, 0.0000, 0.0000]])\n",
      "torch.Size([16384, 148])\n"
     ]
    },
    {
     "name": "stderr",
     "output_type": "stream",
     "text": [
      "100%|██████████| 5/5 [03:47<00:00, 45.51s/it]\n"
     ]
    },
    {
     "data": {
      "image/png": "[encoded data removed]",
      "text/plain": [
       "<Figure size 800x800 with 2 Axes>"
      ]
     },
     "metadata": {},
     "output_type": "display_data"
    }
   ],
   "source": [
    "tasks = {}\n",
    "tasks['T1'] = data_T1R1\n",
    "tasks['T1a'] = data_T1R2\n",
    "tasks['T2'] = data_T2R1\n",
    "tasks['T2a'] = data_T2R2\n",
    "\n",
    "d = dissimilarity(reference, one_hot=True, normalized=False)\n",
    "dist = d.pwdist(tasks)"
   ]
  },
  {
   "cell_type": "code",
   "execution_count": 5,
   "metadata": {},
   "outputs": [
    {
     "name": "stderr",
     "output_type": "stream",
     "text": [
      "100%|██████████| 5/5 [03:53<00:00, 46.64s/it]\n"
     ]
    },
    {
     "data": {
      "image/png": "[encoded data removed]",
      "text/plain": [
       "<Figure size 800x800 with 2 Axes>"
      ]
     },
     "metadata": {},
     "output_type": "display_data"
    }
   ],
   "source": [
    "tasks = {}\n",
    "tasks['T1'] = data_T1R1\n",
    "tasks['T1a'] = data_T1R2\n",
    "tasks['T2'] = data_T2R1\n",
    "tasks['T2a'] = data_T2R2\n",
    "\n",
    "d = dissimilarity(reference, one_hot=True, normalized=False)\n",
    "dist, emb = d.pwdist(tasks)"
   ]
  },
  {
   "cell_type": "code",
   "execution_count": 7,
   "metadata": {},
   "outputs": [
    {
     "data": {
      "text/plain": [
       "tensor([[-0.4604, -0.1011, -0.1750,  ..., -0.1966, -0.7198, -0.0226],\n",
       "        [-0.6198, -0.1458, -0.7503,  ..., -0.5355, -0.1901,  0.5818],\n",
       "        [-0.8796, -0.0597, -0.0732,  ..., -0.9724, -0.8727, -0.0463],\n",
       "        ...,\n",
       "        [-0.7046, -0.3412, -0.7903,  ..., -0.1417, -0.2272, -0.1341],\n",
       "        [-0.7651, -0.0654, -0.1073,  ..., -0.1359, -0.1837, -0.4787],\n",
       "        [-0.0542, -0.3429, -0.6201,  ..., -0.1346, -0.1204, -0.5054]])"
      ]
     },
     "execution_count": 7,
     "metadata": {},
     "output_type": "execute_result"
    }
   ],
   "source": [
    "emb"
   ]
  },
  {
   "cell_type": "code",
   "execution_count": 10,
   "metadata": {},
   "outputs": [
    {
     "data": {
      "text/plain": [
       "tensor([[-0.4604, -0.1011, -0.1750,  ..., -0.1966, -0.7198, -0.0226],\n",
       "        [-0.6198, -0.1458, -0.7503,  ..., -0.5355, -0.1901,  0.5818],\n",
       "        [-0.8796, -0.0597, -0.0732,  ..., -0.9724, -0.8727, -0.0463],\n",
       "        ...,\n",
       "        [-0.7046, -0.3412, -0.7903,  ..., -0.1417, -0.2272, -0.1341],\n",
       "        [-0.7651, -0.0654, -0.1073,  ..., -0.1359, -0.1837, -0.4787],\n",
       "        [-0.0542, -0.3429, -0.6201,  ..., -0.1346, -0.1204, -0.5054]])"
      ]
     },
     "execution_count": 10,
     "metadata": {},
     "output_type": "execute_result"
    }
   ],
   "source": [
    "emb\n"
   ]
  },
  {
   "cell_type": "code",
   "execution_count": 14,
   "metadata": {},
   "outputs": [
    {
     "data": {
      "text/plain": [
       "torch.Size([500, 148])"
      ]
     },
     "execution_count": 14,
     "metadata": {},
     "output_type": "execute_result"
    }
   ],
   "source": [
    "emb.size()"
   ]
  },
  {
   "cell_type": "code",
   "execution_count": 1,
   "metadata": {},
   "outputs": [
    {
     "ename": "NameError",
     "evalue": "name 'emb' is not defined",
     "output_type": "error",
     "traceback": [
      "\u001b[0;31m---------------------------------------------------------------------------\u001b[0m",
      "\u001b[0;31mNameError\u001b[0m                                 Traceback (most recent call last)",
      "Cell \u001b[0;32mIn [1], line 1\u001b[0m\n\u001b[0;32m----> 1\u001b[0m emb\u001b[39m.\u001b[39mravel()\n",
      "\u001b[0;31mNameError\u001b[0m: name 'emb' is not defined"
     ]
    }
   ],
   "source": [
    "emb.ravel()"
   ]
  },
  {
   "cell_type": "code",
   "execution_count": null,
   "metadata": {},
   "outputs": [],
   "source": []
  }
 ],
 "metadata": {
  "kernelspec": {
   "display_name": "Python 3.9.13 ('Mini')",
   "language": "python",
   "name": "python3"
  },
  "language_info": {
   "codemirror_mode": {
    "name": "ipython",
    "version": 3
   },
   "file_extension": ".py",
   "mimetype": "text/x-python",
   "name": "python",
   "nbconvert_exporter": "python",
   "pygments_lexer": "ipython3",
   "version": "3.9.13"
  },
  "orig_nbformat": 4,
  "vscode": {
   "interpreter": {
    "hash": "cef3d2c95146bf3a2d596de96043f93a31fc2f032b36c73906b9e17589ac93ff"
   }
  }
 },
 "nbformat": 4,
 "nbformat_minor": 2
}
