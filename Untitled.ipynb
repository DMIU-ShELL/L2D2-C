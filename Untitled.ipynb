{
 "cells": [
  {
   "cell_type": "code",
   "execution_count": 1,
   "id": "b30a40ad-5b0a-4953-8a11-67bb953b90a0",
   "metadata": {},
   "outputs": [
    {
     "name": "stdout",
     "output_type": "stream",
     "text": [
      "0.14.0\n"
     ]
    }
   ],
   "source": [
    "import folium\n",
    "print(folium.__version__)"
   ]
  },
  {
   "cell_type": "code",
   "execution_count": null,
   "id": "55f29a58-ad8f-4817-8ab4-a786a283fa61",
   "metadata": {},
   "outputs": [],
   "source": []
  },
  {
   "cell_type": "code",
   "execution_count": 6,
   "id": "93b8af09-f0bd-41b0-97a7-18401621d497",
   "metadata": {},
   "outputs": [],
   "source": [
    "map = folium.Map(location=[36.148346,  -86.80573], zoom_start=10, tiles='CartoDB positron')\n",
    "map.save(\"myFirstMap.hml\")"
   ]
  },
  {
   "cell_type": "code",
   "execution_count": 8,
   "id": "5581d83b-3a18-48fc-8a1e-65e0a7d5c2c8",
   "metadata": {},
   "outputs": [],
   "source": [
    "map = folium.Map(location=[36.148346,  -86.80573], zoom_start=10, tiles='CartoDB positron')"
   ]
  },
  {
   "cell_type": "code",
   "execution_count": null,
   "id": "f139b14c-6e7e-44a5-99a6-001aa0cfad87",
   "metadata": {},
   "outputs": [],
   "source": []
  }
 ],
 "metadata": {
  "kernelspec": {
   "display_name": "Python 3 (ipykernel)",
   "language": "python",
   "name": "python3"
  },
  "language_info": {
   "codemirror_mode": {
    "name": "ipython",
    "version": 3
   },
   "file_extension": ".py",
   "mimetype": "text/x-python",
   "name": "python",
   "nbconvert_exporter": "python",
   "pygments_lexer": "ipython3",
   "version": "3.9.13"
  }
 },
 "nbformat": 4,
 "nbformat_minor": 5
}
